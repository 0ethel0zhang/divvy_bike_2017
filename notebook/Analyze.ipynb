{
 "cells": [
  {
   "cell_type": "markdown",
   "metadata": {},
   "source": [
    "<br>\n",
    "<center><h1>Divvy Bike Trip Duration Prediction</h1></center>\n",
    "<br>"
   ]
  },
  {
   "cell_type": "markdown",
   "metadata": {},
   "source": [
    "# Objective & Key Points"
   ]
  },
  {
   "cell_type": "markdown",
   "metadata": {},
   "source": [
    "Using 2017 Divvy Bikes data, I'd like to:<br>\n",
    "- 1) study the patterns (i.e. the most popular routes, genearl usage, difference in sub-groups of users etc.) <br>\n",
    "- 2) create a model (models) that predict trip duration. <br>\n",
    "        Given a ride's start and end stations, some of the riders demographic data, some bike information, and potentially weather data, I'd like to predict how long the ride would take.\n",
    "\n",
    "Some of the **key takeaways** from the analysis:\n",
    "\n",
    "1. Distance is by far the most predictive among all variables. The longer the distance, the longer the trip duration.\n",
    "- Other variables that are important and make sense are age (older the age, longer the duration), and gender (Males take slighly shorter time to finish trips).\n",
    "2. Weather data can improve the model accuracy but only by a little bit.\n",
    "3. Gradient boosted tree model with weather info is the most accurate (R-squared = 14.8%), and yet it is not that much better than without weather data (R-squared = 14.5%), or a linear model (R-squared = 13.1%).\n",
    "\n",
    "\n",
    "Going forward, other feature engineering, other non-linear models, or even other external data can be explored to improve the performance."
   ]
  },
  {
   "cell_type": "markdown",
   "metadata": {},
   "source": [
    "<h1>Table of Content</h1>\n",
    "\n",
    ">[Import Libraries](#Import-Libraries) <br>\n",
    "[Read Data](#Read-Data) <br>\n",
    "[1. Data Exploration](#1.-Data-Exploration)<br>\n",
    "[__a. Data Source](#a.-Source:)<br>\n",
    "[__b. Data Info](#b.-Data-Info:)<br>\n",
    "[____b.1. Bike related info](#b.1.-Bike-related-info)<br>\n",
    "[____b.2 missing data and missing pattern](#b.2-missing-data-and-missing-pattern)<br>\n",
    "[____b.3 Distribution of each feature](#b.3-Distribution-of-each-feature)<br>\n",
    "[2. Data Visualization](#2.-Data-Visualization)<br>\n",
    "[3. Data Cleaning](#3.-Data-Cleaning)<br>\n",
    "[____3.1 Data Exploration](#3.1-Data-Exploration)<br>\n",
    "[____3.2 Feature Engineering](#3.2-Feature-Engineering)<br>\n",
    "[4. Modeling](#4.-Modeling)<br>\n",
    "- Linear basline model\n",
    "- Gradient boosted tree model\n",
    "- Linear basline model with weather data\n",
    "- Gradient boosted tree model with weather data\n",
    "- Random forest model<br>\n",
    "<br>[Key Takeaways](#Key-Takeaways)\n",
    ">"
   ]
  },
  {
   "cell_type": "markdown",
   "metadata": {},
   "source": [
    "<a name=\"Import-Libraries\"></a>\n",
    "# Import Libraries"
   ]
  },
  {
   "cell_type": "code",
   "execution_count": 1,
   "metadata": {},
   "outputs": [],
   "source": [
    "from zipfile import ZipFile\n",
    "import os\n",
    "import pandas as pd\n",
    "import math\n",
    "import numpy as np\n",
    "from scipy import stats\n",
    "\n",
    "import tarfile\n",
    "import json\n",
    "import sys\n",
    "import datetime\n",
    "\n",
    "import multiprocessing as mp\n",
    "from multiprocessing import Pool\n",
    "import dask.dataframe as dd"
   ]
  },
  {
   "cell_type": "code",
   "execution_count": 216,
   "metadata": {},
   "outputs": [],
   "source": [
    "from sklearn.model_selection import train_test_split\n",
    "from sklearn.model_selection import cross_val_predict\n",
    "from sklearn.preprocessing import scale, StandardScaler\n",
    "\n",
    "import statsmodels.api as sm\n",
    "from sklearn.linear_model import LinearRegression\n",
    "from sklearn.ensemble import GradientBoostingRegressor\n",
    "from sklearn.ensemble import RandomForestRegressor\n",
    "\n",
    "from sklearn.pipeline import make_pipeline\n",
    "from sklearn.model_selection import GridSearchCV\n",
    "from sklearn.ensemble.partial_dependence import plot_partial_dependence"
   ]
  },
  {
   "cell_type": "code",
   "execution_count": 2,
   "metadata": {},
   "outputs": [],
   "source": [
    "import matplotlib.pyplot as plt\n",
    "%matplotlib inline"
   ]
  },
  {
   "cell_type": "markdown",
   "metadata": {},
   "source": [
    "# Read Data"
   ]
  },
  {
   "cell_type": "code",
   "execution_count": 3,
   "metadata": {
    "scrolled": true
   },
   "outputs": [
    {
     "data": {
      "text/plain": [
       "['Divvy_Trips_2017_Q3Q4.zip', 'Divvy_Trips_2017_Q1Q2.zip']"
      ]
     },
     "execution_count": 3,
     "metadata": {},
     "output_type": "execute_result"
    }
   ],
   "source": [
    "os.listdir(\"../data/raw\")"
   ]
  },
  {
   "cell_type": "code",
   "execution_count": 4,
   "metadata": {},
   "outputs": [],
   "source": [
    "file_path = \"../data/raw/Divvy_Trips_2017_Q1Q2.zip\""
   ]
  },
  {
   "cell_type": "code",
   "execution_count": 5,
   "metadata": {},
   "outputs": [],
   "source": [
    "archive = ZipFile(\"../data/raw/Divvy_Trips_2017_Q1Q2.zip\", \"r\")"
   ]
  },
  {
   "cell_type": "code",
   "execution_count": 6,
   "metadata": {},
   "outputs": [],
   "source": [
    "archive2 = ZipFile(\"../data/raw/Divvy_Trips_2017_Q3Q4.zip\", \"r\")"
   ]
  },
  {
   "cell_type": "code",
   "execution_count": 9,
   "metadata": {},
   "outputs": [
    {
     "data": {
      "text/plain": [
       "[<ZipInfo filename='Divvy_Trips_2017_Q1.csv' compress_type=deflate external_attr=0x20 file_size=67969331 compress_size=11913711>,\n",
       " <ZipInfo filename='Divvy_Stations_2017_Q1Q2.csv' compress_type=deflate external_attr=0x20 file_size=56223 compress_size=15552>,\n",
       " <ZipInfo filename='README.txt' compress_type=deflate external_attr=0x20 file_size=1513 compress_size=648>,\n",
       " <ZipInfo filename='Divvy_Trips_2017_Q2.csv' compress_type=deflate external_attr=0x20 file_size=174311015 compress_size=30097985>]"
      ]
     },
     "execution_count": 9,
     "metadata": {},
     "output_type": "execute_result"
    }
   ],
   "source": [
    "archive.filelist"
   ]
  },
  {
   "cell_type": "code",
   "execution_count": 10,
   "metadata": {},
   "outputs": [
    {
     "data": {
      "text/plain": [
       "[<ZipInfo filename='Divvy_Stations_2017_Q3Q4.csv' compress_type=deflate external_attr=0x20 file_size=46340 compress_size=13108>,\n",
       " <ZipInfo filename='Divvy_Trips_2017_Q3.csv' compress_type=deflate external_attr=0x20 file_size=249752322 compress_size=42901701>,\n",
       " <ZipInfo filename='Divvy_Trips_2017_Q4.csv' compress_type=deflate external_attr=0x20 file_size=85943745 compress_size=14579301>,\n",
       " <ZipInfo filename='README.txt' compress_type=deflate external_attr=0x20 file_size=1514 compress_size=647>]"
      ]
     },
     "execution_count": 10,
     "metadata": {},
     "output_type": "execute_result"
    }
   ],
   "source": [
    "archive2.filelist"
   ]
  },
  {
   "cell_type": "code",
   "execution_count": 7,
   "metadata": {},
   "outputs": [],
   "source": [
    "stops = pd.read_csv(archive.open('Divvy_Stations_2017_Q1Q2.csv'))"
   ]
  },
  {
   "cell_type": "code",
   "execution_count": 8,
   "metadata": {},
   "outputs": [],
   "source": [
    "Q1 = pd.read_csv(archive.open('Divvy_Trips_2017_Q1.csv'), parse_dates=[\"start_time\",\"end_time\"])"
   ]
  },
  {
   "cell_type": "code",
   "execution_count": 9,
   "metadata": {},
   "outputs": [],
   "source": [
    "Q2 = pd.read_csv(archive.open('Divvy_Trips_2017_Q2.csv'), parse_dates=[\"start_time\",\"end_time\"])"
   ]
  },
  {
   "cell_type": "code",
   "execution_count": 10,
   "metadata": {},
   "outputs": [],
   "source": [
    "Q3 = pd.read_csv(archive2.open('Divvy_Trips_2017_Q3.csv'), parse_dates=[\"start_time\",\"end_time\"])"
   ]
  },
  {
   "cell_type": "code",
   "execution_count": 11,
   "metadata": {},
   "outputs": [],
   "source": [
    "Q4 = pd.read_csv(archive2.open('Divvy_Trips_2017_Q4.csv'), parse_dates=[\"start_time\",\"end_time\"])"
   ]
  },
  {
   "cell_type": "code",
   "execution_count": 17,
   "metadata": {},
   "outputs": [
    {
     "data": {
      "text/plain": [
       "((431691, 12), (1119814, 12), (1608270, 12), (669239, 12))"
      ]
     },
     "execution_count": 17,
     "metadata": {},
     "output_type": "execute_result"
    }
   ],
   "source": [
    "Q1.shape, Q2.shape, Q3.shape, Q4.shape"
   ]
  },
  {
   "cell_type": "code",
   "execution_count": 12,
   "metadata": {},
   "outputs": [
    {
     "data": {
      "text/plain": [
       "(582, 7)"
      ]
     },
     "execution_count": 12,
     "metadata": {},
     "output_type": "execute_result"
    }
   ],
   "source": [
    "stops.shape"
   ]
  },
  {
   "cell_type": "code",
   "execution_count": 13,
   "metadata": {},
   "outputs": [],
   "source": [
    "combined = Q1.append([Q2,Q3,Q4])"
   ]
  },
  {
   "cell_type": "code",
   "execution_count": 14,
   "metadata": {},
   "outputs": [],
   "source": [
    "del Q1, Q2, Q3, Q4"
   ]
  },
  {
   "cell_type": "markdown",
   "metadata": {},
   "source": [
    "# 1. Data Exploration"
   ]
  },
  {
   "cell_type": "markdown",
   "metadata": {},
   "source": [
    "## a. Source:\n",
    "\n",
    "Dataset 1: Divvy Bike data which can be found [here](https://www.divvybikes.com/system-data) <br>\n",
    "Dataset 2: Chicago beach weather data which can be downloaded [here](https://data.cityofchicago.org/api/views/k7hf-8y75/rows.csv?accessType=DOWNLOAD)"
   ]
  },
  {
   "cell_type": "code",
   "execution_count": 16,
   "metadata": {},
   "outputs": [
    {
     "data": {
      "text/plain": [
       "Index(['trip_id', 'start_time', 'end_time', 'bikeid', 'tripduration',\n",
       "       'from_station_id', 'from_station_name', 'to_station_id',\n",
       "       'to_station_name', 'usertype', 'gender', 'birthyear'],\n",
       "      dtype='object')"
      ]
     },
     "execution_count": 16,
     "metadata": {},
     "output_type": "execute_result"
    }
   ],
   "source": [
    "combined.columns"
   ]
  },
  {
   "cell_type": "code",
   "execution_count": 15,
   "metadata": {},
   "outputs": [
    {
     "data": {
      "text/plain": [
       "(3829014, 12)"
      ]
     },
     "execution_count": 15,
     "metadata": {},
     "output_type": "execute_result"
    }
   ],
   "source": [
    "combined.shape"
   ]
  },
  {
   "cell_type": "markdown",
   "metadata": {},
   "source": [
    "## b. Data Info:"
   ]
  },
  {
   "cell_type": "markdown",
   "metadata": {},
   "source": [
    "### b.1. Bike related info"
   ]
  },
  {
   "cell_type": "code",
   "execution_count": 17,
   "metadata": {},
   "outputs": [
    {
     "data": {
      "text/plain": [
       "6243"
      ]
     },
     "execution_count": 17,
     "metadata": {},
     "output_type": "execute_result"
    }
   ],
   "source": [
    "# unique number of bikes\n",
    "combined.bikeid.nunique()"
   ]
  },
  {
   "cell_type": "code",
   "execution_count": 19,
   "metadata": {},
   "outputs": [
    {
     "data": {
      "text/plain": [
       "<matplotlib.axes._subplots.AxesSubplot at 0x1c2373c668>"
      ]
     },
     "execution_count": 19,
     "metadata": {},
     "output_type": "execute_result"
    },
    {
     "data": {
      "image/png": "[encoded data removed]",
      "text/plain": [
       "<Figure size 432x288 with 1 Axes>"
      ]
     },
     "metadata": {
      "needs_background": "light"
     },
     "output_type": "display_data"
    }
   ],
   "source": [
    "# bike usage histogram\n",
    "combined.bikeid.value_counts().plot.hist()"
   ]
  },
  {
   "cell_type": "markdown",
   "metadata": {},
   "source": [
    "Most bikes are used close to 2K times in 2017."
   ]
  },
  {
   "cell_type": "markdown",
   "metadata": {},
   "source": [
    "### b.2 missing data and missing pattern"
   ]
  },
  {
   "cell_type": "code",
   "execution_count": 22,
   "metadata": {},
   "outputs": [
    {
     "data": {
      "text/plain": [
       "trip_id              0.000000\n",
       "start_time           0.000000\n",
       "end_time             0.000000\n",
       "bikeid               0.000000\n",
       "tripduration         0.000000\n",
       "from_station_id      0.000000\n",
       "from_station_name    0.000000\n",
       "to_station_id        0.000000\n",
       "to_station_name      0.000000\n",
       "usertype             0.000000\n",
       "gender               0.218549\n",
       "birthyear            0.218531\n",
       "dtype: float64"
      ]
     },
     "execution_count": 22,
     "metadata": {},
     "output_type": "execute_result"
    }
   ],
   "source": [
    "combined.isnull().sum()/combined.shape[0]"
   ]
  },
  {
   "cell_type": "code",
   "execution_count": 27,
   "metadata": {},
   "outputs": [
    {
     "data": {
      "text/plain": [
       "Subscriber    2992135\n",
       "Customer       836872\n",
       "Dependent           7\n",
       "Name: usertype, dtype: int64"
      ]
     },
     "execution_count": 27,
     "metadata": {},
     "output_type": "execute_result"
    }
   ],
   "source": [
    "combined.usertype.value_counts()"
   ]
  },
  {
   "cell_type": "code",
   "execution_count": 25,
   "metadata": {},
   "outputs": [
    {
     "data": {
      "text/plain": [
       "Customer      836018\n",
       "Subscriber       806\n",
       "Dependent          3\n",
       "Name: usertype, dtype: int64"
      ]
     },
     "execution_count": 25,
     "metadata": {},
     "output_type": "execute_result"
    }
   ],
   "source": [
    "# most of the missing genders are from Customers\n",
    "combined[combined.gender.isnull()].usertype.value_counts()"
   ]
  },
  {
   "cell_type": "code",
   "execution_count": 26,
   "metadata": {},
   "outputs": [
    {
     "data": {
      "text/plain": [
       "Customer      836018\n",
       "Subscriber       740\n",
       "Name: usertype, dtype: int64"
      ]
     },
     "execution_count": 26,
     "metadata": {},
     "output_type": "execute_result"
    }
   ],
   "source": [
    "# most of the missing age are from Customers\n",
    "combined[combined.birthyear.isnull()].usertype.value_counts()"
   ]
  },
  {
   "cell_type": "markdown",
   "metadata": {},
   "source": [
    "> Since most Customers are missing some demographic information, it might be best to exclude them from the model."
   ]
  },
  {
   "cell_type": "markdown",
   "metadata": {},
   "source": [
    "### b.3 Distribution of each feature\n",
    "without the missing values"
   ]
  },
  {
   "cell_type": "code",
   "execution_count": 31,
   "metadata": {},
   "outputs": [
    {
     "data": {
      "text/plain": [
       "Index(['trip_id', 'start_time', 'end_time', 'bikeid', 'tripduration',\n",
       "       'from_station_id', 'from_station_name', 'to_station_id',\n",
       "       'to_station_name', 'usertype', 'gender', 'birthyear'],\n",
       "      dtype='object')"
      ]
     },
     "execution_count": 31,
     "metadata": {},
     "output_type": "execute_result"
    }
   ],
   "source": [
    "combined.columns"
   ]
  },
  {
   "cell_type": "code",
   "execution_count": 54,
   "metadata": {},
   "outputs": [
    {
     "data": {
      "text/plain": [
       "array([[<matplotlib.axes._subplots.AxesSubplot object at 0x1c2548c9e8>,\n",
       "        <matplotlib.axes._subplots.AxesSubplot object at 0x1c25e49f60>,\n",
       "        <matplotlib.axes._subplots.AxesSubplot object at 0x1c2522b518>],\n",
       "       [<matplotlib.axes._subplots.AxesSubplot object at 0x1c25252a90>,\n",
       "        <matplotlib.axes._subplots.AxesSubplot object at 0x1c25282048>,\n",
       "        <matplotlib.axes._subplots.AxesSubplot object at 0x1c257da5c0>]],\n",
       "      dtype=object)"
      ]
     },
     "execution_count": 54,
     "metadata": {},
     "output_type": "execute_result"
    },
    {
     "data": {
      "image/png": "[encoded data removed]",
      "text/plain": [
       "<Figure size 720x360 with 6 Axes>"
      ]
     },
     "metadata": {
      "needs_background": "light"
     },
     "output_type": "display_data"
    }
   ],
   "source": [
    "# all numeric values\n",
    "combined[~combined.gender.isnull()].drop(['trip_id', 'start_time', 'end_time'], axis = 1)\\\n",
    "    .hist(figsize = (10,5), layout = (2,3), alpha = 0.75)"
   ]
  },
  {
   "cell_type": "markdown",
   "metadata": {},
   "source": [
    "### - Distibution by usertype"
   ]
  },
  {
   "cell_type": "code",
   "execution_count": 67,
   "metadata": {},
   "outputs": [
    {
     "data": {
      "text/plain": [
       "Subscriber    2992135\n",
       "Customer       836872\n",
       "Dependent           7\n",
       "Name: usertype, dtype: int64"
      ]
     },
     "execution_count": 67,
     "metadata": {},
     "output_type": "execute_result"
    }
   ],
   "source": [
    "combined.usertype.value_counts()"
   ]
  },
  {
   "cell_type": "code",
   "execution_count": 69,
   "metadata": {},
   "outputs": [
    {
     "data": {
      "text/plain": [
       "usertype\n",
       "Customer      [[AxesSubplot(0.125,0.670278;0.103333x0.209722...\n",
       "Dependent     [[AxesSubplot(0.125,0.670278;0.103333x0.209722...\n",
       "Subscriber    [[AxesSubplot(0.125,0.670278;0.103333x0.209722...\n",
       "dtype: object"
      ]
     },
     "execution_count": 69,
     "metadata": {},
     "output_type": "execute_result"
    },
    {
     "data": {
      "image/png": "[encoded data removed]",
      "text/plain": [
       "<Figure size 432x288 with 18 Axes>"
      ]
     },
     "metadata": {
      "needs_background": "light"
     },
     "output_type": "display_data"
    },
    {
     "data": {
      "image/png": "[encoded data removed]",
      "text/plain": [
       "<Figure size 432x288 with 18 Axes>"
      ]
     },
     "metadata": {
      "needs_background": "light"
     },
     "output_type": "display_data"
    },
    {
     "data": {
      "image/png": "[encoded data removed]",
      "text/plain": [
       "<Figure size 432x288 with 18 Axes>"
      ]
     },
     "metadata": {
      "needs_background": "light"
     },
     "output_type": "display_data"
    }
   ],
   "source": [
    "combined.groupby(\"usertype\").hist(layout=(3,6), label = 'left')"
   ]
  },
  {
   "cell_type": "code",
   "execution_count": 82,
   "metadata": {
    "scrolled": true
   },
   "outputs": [
    {
     "data": {
      "text/html": [
       "<div>\n",
       "<style scoped>\n",
       "    .dataframe tbody tr th:only-of-type {\n",
       "        vertical-align: middle;\n",
       "    }\n",
       "\n",
       "    .dataframe tbody tr th {\n",
       "        vertical-align: top;\n",
       "    }\n",
       "\n",
       "    .dataframe thead th {\n",
       "        text-align: right;\n",
       "    }\n",
       "</style>\n",
       "<table border=\"1\" class=\"dataframe\">\n",
       "  <thead>\n",
       "    <tr style=\"text-align: right;\">\n",
       "      <th></th>\n",
       "      <th>count</th>\n",
       "      <th>mean</th>\n",
       "      <th>std</th>\n",
       "      <th>min</th>\n",
       "      <th>25%</th>\n",
       "      <th>50%</th>\n",
       "      <th>75%</th>\n",
       "      <th>max</th>\n",
       "    </tr>\n",
       "    <tr>\n",
       "      <th>usertype</th>\n",
       "      <th></th>\n",
       "      <th></th>\n",
       "      <th></th>\n",
       "      <th></th>\n",
       "      <th></th>\n",
       "      <th></th>\n",
       "      <th></th>\n",
       "      <th></th>\n",
       "    </tr>\n",
       "  </thead>\n",
       "  <tbody>\n",
       "    <tr>\n",
       "      <th>Customer</th>\n",
       "      <td>836872.0</td>\n",
       "      <td>1856.081443</td>\n",
       "      <td>2641.962013</td>\n",
       "      <td>60.0</td>\n",
       "      <td>924.0</td>\n",
       "      <td>1369.0</td>\n",
       "      <td>1937.0</td>\n",
       "      <td>86338.0</td>\n",
       "    </tr>\n",
       "    <tr>\n",
       "      <th>Dependent</th>\n",
       "      <td>7.0</td>\n",
       "      <td>751.857143</td>\n",
       "      <td>549.073896</td>\n",
       "      <td>237.0</td>\n",
       "      <td>277.5</td>\n",
       "      <td>804.0</td>\n",
       "      <td>959.0</td>\n",
       "      <td>1749.0</td>\n",
       "    </tr>\n",
       "    <tr>\n",
       "      <th>Subscriber</th>\n",
       "      <td>2992135.0</td>\n",
       "      <td>703.787619</td>\n",
       "      <td>953.771729</td>\n",
       "      <td>60.0</td>\n",
       "      <td>356.0</td>\n",
       "      <td>572.0</td>\n",
       "      <td>908.0</td>\n",
       "      <td>86096.0</td>\n",
       "    </tr>\n",
       "  </tbody>\n",
       "</table>\n",
       "</div>"
      ],
      "text/plain": [
       "                count         mean          std    min    25%     50%     75%  \\\n",
       "usertype                                                                        \n",
       "Customer     836872.0  1856.081443  2641.962013   60.0  924.0  1369.0  1937.0   \n",
       "Dependent         7.0   751.857143   549.073896  237.0  277.5   804.0   959.0   \n",
       "Subscriber  2992135.0   703.787619   953.771729   60.0  356.0   572.0   908.0   \n",
       "\n",
       "                max  \n",
       "usertype             \n",
       "Customer    86338.0  \n",
       "Dependent    1749.0  \n",
       "Subscriber  86096.0  "
      ]
     },
     "execution_count": 82,
     "metadata": {},
     "output_type": "execute_result"
    }
   ],
   "source": [
    "combined.groupby(\"usertype\").tripduration.describe()"
   ]
  },
  {
   "cell_type": "code",
   "execution_count": 83,
   "metadata": {},
   "outputs": [
    {
     "data": {
      "text/plain": [
       "Ttest_indResult(statistic=391.91485346879017, pvalue=0.0)"
      ]
     },
     "execution_count": 83,
     "metadata": {},
     "output_type": "execute_result"
    }
   ],
   "source": [
    "# check if the difference in trip duration is significant\n",
    "stats.ttest_ind(combined[combined.usertype == 'Customer']['tripduration'].dropna(),\n",
    "                combined[combined.usertype == 'Subscriber']['tripduration'].dropna(),\n",
    "               equal_var=False)"
   ]
  },
  {
   "cell_type": "code",
   "execution_count": 142,
   "metadata": {},
   "outputs": [
    {
     "data": {
      "text/plain": [
       "array([[<matplotlib.axes._subplots.AxesSubplot object at 0x1c2d30f198>,\n",
       "        <matplotlib.axes._subplots.AxesSubplot object at 0x1c2dfecac8>],\n",
       "       [<matplotlib.axes._subplots.AxesSubplot object at 0x1c2ee4f080>,\n",
       "        <matplotlib.axes._subplots.AxesSubplot object at 0x1c2ee5a5f8>]],\n",
       "      dtype=object)"
      ]
     },
     "execution_count": 142,
     "metadata": {},
     "output_type": "execute_result"
    },
    {
     "data": {
      "image/png": "[encoded data removed]",
      "text/plain": [
       "<Figure size 432x288 with 4 Axes>"
      ]
     },
     "metadata": {
      "needs_background": "light"
     },
     "output_type": "display_data"
    }
   ],
   "source": [
    "# trip duration by user types\n",
    "combined[~combined.gender.isnull()]['tripduration']\\\n",
    "    .hist(by=combined[~combined.gender.isnull()]['usertype'], bins = 100)"
   ]
  },
  {
   "cell_type": "code",
   "execution_count": 58,
   "metadata": {},
   "outputs": [
    {
     "data": {
      "text/plain": [
       "array([[<matplotlib.axes._subplots.AxesSubplot object at 0x1c202e1c50>,\n",
       "        <matplotlib.axes._subplots.AxesSubplot object at 0x1c28f86f98>]],\n",
       "      dtype=object)"
      ]
     },
     "execution_count": 58,
     "metadata": {},
     "output_type": "execute_result"
    },
    {
     "data": {
      "image/png": "[encoded data removed]",
      "text/plain": [
       "<Figure size 720x144 with 2 Axes>"
      ]
     },
     "metadata": {
      "needs_background": "light"
     },
     "output_type": "display_data"
    }
   ],
   "source": [
    "# trip hours\n",
    "combined[~combined.gender.isnull()][['start_time', 'end_time']].applymap(lambda x: x.hour)\\\n",
    "    .hist(figsize = (10,2),alpha = 0.75)"
   ]
  },
  {
   "cell_type": "code",
   "execution_count": 135,
   "metadata": {},
   "outputs": [
    {
     "data": {
      "text/plain": [
       "array([[<matplotlib.axes._subplots.AxesSubplot object at 0x1c2dc3a780>,\n",
       "        <matplotlib.axes._subplots.AxesSubplot object at 0x1c31a8bb38>],\n",
       "       [<matplotlib.axes._subplots.AxesSubplot object at 0x1c331d39b0>,\n",
       "        <matplotlib.axes._subplots.AxesSubplot object at 0x1c33179d30>]],\n",
       "      dtype=object)"
      ]
     },
     "execution_count": 135,
     "metadata": {},
     "output_type": "execute_result"
    },
    {
     "data": {
      "image/png": "[encoded data removed]",
      "text/plain": [
       "<Figure size 432x288 with 4 Axes>"
      ]
     },
     "metadata": {
      "needs_background": "light"
     },
     "output_type": "display_data"
    }
   ],
   "source": [
    "# trip hours by user types\n",
    "combined[~combined.gender.isnull()][['start_time', 'end_time']].applymap(lambda x: x.hour)\\\n",
    "    .hist(by=combined[~combined.gender.isnull()]['usertype'])"
   ]
  },
  {
   "cell_type": "code",
   "execution_count": 129,
   "metadata": {},
   "outputs": [
    {
     "data": {
      "text/plain": [
       "<matplotlib.axes._subplots.AxesSubplot at 0x1c331e46a0>"
      ]
     },
     "execution_count": 129,
     "metadata": {},
     "output_type": "execute_result"
    },
    {
     "data": {
      "image/png": "[encoded data removed]",
      "text/plain": [
       "<Figure size 720x144 with 1 Axes>"
      ]
     },
     "metadata": {
      "needs_background": "light"
     },
     "output_type": "display_data"
    }
   ],
   "source": [
    "# trip weekdays\n",
    "combined[~combined.gender.isnull()]['start_time'].dt.dayofweek\\\n",
    "    .plot.hist(figsize = (10,2),alpha = 0.75, align = 'mid', bins = np.arange(-.5, 7.5, 1))"
   ]
  },
  {
   "cell_type": "code",
   "execution_count": 137,
   "metadata": {},
   "outputs": [
    {
     "data": {
      "text/plain": [
       "array([[<matplotlib.axes._subplots.AxesSubplot object at 0x1c31aa94a8>,\n",
       "        <matplotlib.axes._subplots.AxesSubplot object at 0x1c32fe6710>],\n",
       "       [<matplotlib.axes._subplots.AxesSubplot object at 0x1c31aa69e8>,\n",
       "        <matplotlib.axes._subplots.AxesSubplot object at 0x1c32f76a90>]],\n",
       "      dtype=object)"
      ]
     },
     "execution_count": 137,
     "metadata": {},
     "output_type": "execute_result"
    },
    {
     "data": {
      "image/png": "[encoded data removed]",
      "text/plain": [
       "<Figure size 432x288 with 4 Axes>"
      ]
     },
     "metadata": {
      "needs_background": "light"
     },
     "output_type": "display_data"
    }
   ],
   "source": [
    "# trip weekdays by user types\n",
    "combined[~combined.gender.isnull()]['start_time'].dt.dayofweek\\\n",
    "    .hist(by=combined[~combined.gender.isnull()]['usertype'], align = 'mid', bins = np.arange(-.5, 7.5, 1))"
   ]
  },
  {
   "cell_type": "code",
   "execution_count": 59,
   "metadata": {},
   "outputs": [
    {
     "data": {
      "text/plain": [
       "array([[<matplotlib.axes._subplots.AxesSubplot object at 0x1c246a1cc0>,\n",
       "        <matplotlib.axes._subplots.AxesSubplot object at 0x1c24e23978>]],\n",
       "      dtype=object)"
      ]
     },
     "execution_count": 59,
     "metadata": {},
     "output_type": "execute_result"
    },
    {
     "data": {
      "image/png": "[encoded data removed]",
      "text/plain": [
       "<Figure size 720x144 with 2 Axes>"
      ]
     },
     "metadata": {
      "needs_background": "light"
     },
     "output_type": "display_data"
    }
   ],
   "source": [
    "# trip months\n",
    "combined[~combined.gender.isnull()][['start_time', 'end_time']].applymap(lambda x: x.month)\\\n",
    "    .hist(figsize = (10,2),alpha = 0.75)"
   ]
  },
  {
   "cell_type": "code",
   "execution_count": 145,
   "metadata": {},
   "outputs": [
    {
     "data": {
      "text/plain": [
       "array([[<matplotlib.axes._subplots.AxesSubplot object at 0x1c2f1642e8>,\n",
       "        <matplotlib.axes._subplots.AxesSubplot object at 0x1c3d46d828>],\n",
       "       [<matplotlib.axes._subplots.AxesSubplot object at 0x1c3d419da0>,\n",
       "        <matplotlib.axes._subplots.AxesSubplot object at 0x1c3d4a2358>]],\n",
       "      dtype=object)"
      ]
     },
     "execution_count": 145,
     "metadata": {},
     "output_type": "execute_result"
    },
    {
     "data": {
      "image/png": "[encoded data removed]",
      "text/plain": [
       "<Figure size 432x288 with 4 Axes>"
      ]
     },
     "metadata": {
      "needs_background": "light"
     },
     "output_type": "display_data"
    }
   ],
   "source": [
    "# trip weekdays by user types\n",
    "combined[~combined.gender.isnull()][['start_time', 'end_time']].applymap(lambda x: x.month)\\\n",
    "    .hist(by=combined[~combined.gender.isnull()]['usertype'], align = 'mid')"
   ]
  },
  {
   "cell_type": "markdown",
   "metadata": {},
   "source": [
    "### - Distribution by Gender"
   ]
  },
  {
   "cell_type": "code",
   "execution_count": 84,
   "metadata": {
    "scrolled": true
   },
   "outputs": [
    {
     "data": {
      "text/html": [
       "<div>\n",
       "<style scoped>\n",
       "    .dataframe tbody tr th:only-of-type {\n",
       "        vertical-align: middle;\n",
       "    }\n",
       "\n",
       "    .dataframe tbody tr th {\n",
       "        vertical-align: top;\n",
       "    }\n",
       "\n",
       "    .dataframe thead th {\n",
       "        text-align: right;\n",
       "    }\n",
       "</style>\n",
       "<table border=\"1\" class=\"dataframe\">\n",
       "  <thead>\n",
       "    <tr style=\"text-align: right;\">\n",
       "      <th></th>\n",
       "      <th>count</th>\n",
       "      <th>mean</th>\n",
       "      <th>std</th>\n",
       "      <th>min</th>\n",
       "      <th>25%</th>\n",
       "      <th>50%</th>\n",
       "      <th>75%</th>\n",
       "      <th>max</th>\n",
       "    </tr>\n",
       "    <tr>\n",
       "      <th>gender</th>\n",
       "      <th></th>\n",
       "      <th></th>\n",
       "      <th></th>\n",
       "      <th></th>\n",
       "      <th></th>\n",
       "      <th></th>\n",
       "      <th></th>\n",
       "      <th></th>\n",
       "    </tr>\n",
       "  </thead>\n",
       "  <tbody>\n",
       "    <tr>\n",
       "      <th>Female</th>\n",
       "      <td>746637.0</td>\n",
       "      <td>783.368752</td>\n",
       "      <td>1069.983546</td>\n",
       "      <td>60.0</td>\n",
       "      <td>403.0</td>\n",
       "      <td>651.0</td>\n",
       "      <td>1013.0</td>\n",
       "      <td>85782.0</td>\n",
       "    </tr>\n",
       "    <tr>\n",
       "      <th>Male</th>\n",
       "      <td>2245550.0</td>\n",
       "      <td>677.193849</td>\n",
       "      <td>908.124183</td>\n",
       "      <td>60.0</td>\n",
       "      <td>343.0</td>\n",
       "      <td>549.0</td>\n",
       "      <td>871.0</td>\n",
       "      <td>86096.0</td>\n",
       "    </tr>\n",
       "  </tbody>\n",
       "</table>\n",
       "</div>"
      ],
      "text/plain": [
       "            count        mean          std   min    25%    50%     75%  \\\n",
       "gender                                                                   \n",
       "Female   746637.0  783.368752  1069.983546  60.0  403.0  651.0  1013.0   \n",
       "Male    2245550.0  677.193849   908.124183  60.0  343.0  549.0   871.0   \n",
       "\n",
       "            max  \n",
       "gender           \n",
       "Female  85782.0  \n",
       "Male    86096.0  "
      ]
     },
     "execution_count": 84,
     "metadata": {},
     "output_type": "execute_result"
    }
   ],
   "source": [
    "combined.groupby(\"gender\").tripduration.describe()"
   ]
  },
  {
   "cell_type": "code",
   "execution_count": 85,
   "metadata": {},
   "outputs": [
    {
     "data": {
      "text/plain": [
       "Ttest_indResult(statistic=77.014866504553, pvalue=0.0)"
      ]
     },
     "execution_count": 85,
     "metadata": {},
     "output_type": "execute_result"
    }
   ],
   "source": [
    "# check if the difference in trip duration is significant\n",
    "stats.ttest_ind(combined[combined.gender == 'Female']['tripduration'].dropna(),\n",
    "                combined[combined.gender == 'Male']['tripduration'].dropna(),\n",
    "               equal_var=False)"
   ]
  },
  {
   "cell_type": "code",
   "execution_count": 140,
   "metadata": {},
   "outputs": [
    {
     "data": {
      "text/plain": [
       "array([<matplotlib.axes._subplots.AxesSubplot object at 0x1c32d83470>,\n",
       "       <matplotlib.axes._subplots.AxesSubplot object at 0x1c2f055d30>],\n",
       "      dtype=object)"
      ]
     },
     "execution_count": 140,
     "metadata": {},
     "output_type": "execute_result"
    },
    {
     "data": {
      "image/png": "[encoded data removed]",
      "text/plain": [
       "<Figure size 432x288 with 2 Axes>"
      ]
     },
     "metadata": {
      "needs_background": "light"
     },
     "output_type": "display_data"
    }
   ],
   "source": [
    "# trip hours by gender\n",
    "combined[~combined.gender.isnull()][['start_time', 'end_time']].applymap(lambda x: x.hour)\\\n",
    "    .hist(by=combined[~combined.gender.isnull()]['gender'], sharey = True)"
   ]
  },
  {
   "cell_type": "code",
   "execution_count": 144,
   "metadata": {},
   "outputs": [
    {
     "data": {
      "text/plain": [
       "array([<matplotlib.axes._subplots.AxesSubplot object at 0x1c2eab22b0>,\n",
       "       <matplotlib.axes._subplots.AxesSubplot object at 0x1c3d599da0>],\n",
       "      dtype=object)"
      ]
     },
     "execution_count": 144,
     "metadata": {},
     "output_type": "execute_result"
    },
    {
     "data": {
      "image/png": "[encoded data removed]",
      "text/plain": [
       "<Figure size 432x288 with 2 Axes>"
      ]
     },
     "metadata": {
      "needs_background": "light"
     },
     "output_type": "display_data"
    }
   ],
   "source": [
    "# trip weekdays by gender\n",
    "combined[~combined.gender.isnull()]['start_time'].dt.dayofweek\\\n",
    "    .hist(by=combined[~combined.gender.isnull()]['gender'], align = 'mid', bins = np.arange(-.5, 7.5, 1), \n",
    "          sharey = True)"
   ]
  },
  {
   "cell_type": "code",
   "execution_count": 65,
   "metadata": {},
   "outputs": [
    {
     "data": {
      "text/plain": [
       "<matplotlib.axes._subplots.AxesSubplot at 0x1c24b40c50>"
      ]
     },
     "execution_count": 65,
     "metadata": {},
     "output_type": "execute_result"
    },
    {
     "data": {
      "image/png": "[encoded data removed]",
      "text/plain": [
       "<Figure size 360x144 with 1 Axes>"
      ]
     },
     "metadata": {
      "needs_background": "light"
     },
     "output_type": "display_data"
    }
   ],
   "source": [
    "# gender distribution\n",
    "combined[~combined.gender.isnull()].gender.value_counts().plot.barh(figsize = (5,2),alpha = 0.75)"
   ]
  },
  {
   "cell_type": "code",
   "execution_count": 146,
   "metadata": {},
   "outputs": [],
   "source": [
    "ori = combined.copy()"
   ]
  },
  {
   "cell_type": "code",
   "execution_count": 153,
   "metadata": {},
   "outputs": [],
   "source": [
    "combined = combined[(~combined.gender.isnull()) & (combined.usertype != \"Dependent\")]"
   ]
  },
  {
   "cell_type": "markdown",
   "metadata": {},
   "source": [
    "# 2. Data Visualization"
   ]
  },
  {
   "cell_type": "markdown",
   "metadata": {},
   "source": [
    "## a. Top 5 stations with the most starts (showing # of starts)"
   ]
  },
  {
   "cell_type": "code",
   "execution_count": 630,
   "metadata": {
    "scrolled": true
   },
   "outputs": [
    {
     "data": {
      "text/html": [
       "<div>\n",
       "<style scoped>\n",
       "    .dataframe tbody tr th:only-of-type {\n",
       "        vertical-align: middle;\n",
       "    }\n",
       "\n",
       "    .dataframe tbody tr th {\n",
       "        vertical-align: top;\n",
       "    }\n",
       "\n",
       "    .dataframe thead th {\n",
       "        text-align: right;\n",
       "    }\n",
       "</style>\n",
       "<table border=\"1\" class=\"dataframe\">\n",
       "  <thead>\n",
       "    <tr style=\"text-align: right;\">\n",
       "      <th></th>\n",
       "      <th>Station ID</th>\n",
       "      <th>Station Name</th>\n",
       "      <th># of starts</th>\n",
       "    </tr>\n",
       "  </thead>\n",
       "  <tbody>\n",
       "    <tr>\n",
       "      <th>0</th>\n",
       "      <td>35</td>\n",
       "      <td>Streeter Dr &amp; Grand Ave</td>\n",
       "      <td>97571</td>\n",
       "    </tr>\n",
       "    <tr>\n",
       "      <th>1</th>\n",
       "      <td>76</td>\n",
       "      <td>Lake Shore Dr &amp; Monroe St</td>\n",
       "      <td>53400</td>\n",
       "    </tr>\n",
       "    <tr>\n",
       "      <th>2</th>\n",
       "      <td>192</td>\n",
       "      <td>Canal St &amp; Adams St</td>\n",
       "      <td>50911</td>\n",
       "    </tr>\n",
       "    <tr>\n",
       "      <th>3</th>\n",
       "      <td>91</td>\n",
       "      <td>Clinton St &amp; Washington Blvd</td>\n",
       "      <td>49832</td>\n",
       "    </tr>\n",
       "    <tr>\n",
       "      <th>4</th>\n",
       "      <td>177</td>\n",
       "      <td>Theater on the Lake</td>\n",
       "      <td>47908</td>\n",
       "    </tr>\n",
       "  </tbody>\n",
       "</table>\n",
       "</div>"
      ],
      "text/plain": [
       "   Station ID                  Station Name  # of starts\n",
       "0          35       Streeter Dr & Grand Ave        97571\n",
       "1          76     Lake Shore Dr & Monroe St        53400\n",
       "2         192           Canal St & Adams St        50911\n",
       "3          91  Clinton St & Washington Blvd        49832\n",
       "4         177           Theater on the Lake        47908"
      ]
     },
     "execution_count": 630,
     "metadata": {},
     "output_type": "execute_result"
    }
   ],
   "source": [
    "pd.DataFrame(combined.groupby([\"from_station_id\", \"from_station_name\"]).size()\\\n",
    "             .sort_values(ascending=False)[:5]).reset_index()\\\n",
    "             .rename(columns = {\"from_station_id\":\"Station ID\", \"from_station_name\":\"Station Name\", 0:\"# of starts\"})"
   ]
  },
  {
   "cell_type": "code",
   "execution_count": 332,
   "metadata": {},
   "outputs": [
    {
     "data": {
      "image/png": "[encoded data removed]",
      "text/plain": [
       "<Figure size 432x180 with 1 Axes>"
      ]
     },
     "metadata": {
      "needs_background": "light"
     },
     "output_type": "display_data"
    }
   ],
   "source": [
    "pd.DataFrame(combined.groupby([\"from_station_name\"]).size()\\\n",
    "             .sort_values(ascending=False)[:5])\\\n",
    "             .rename(columns = {0:\"# of starts\"}).plot.barh(fontsize = 11, title = \"Top 5 Starts\", \n",
    "                                                            figsize = (6,2.5), alpha = 0.75)\n",
    "# plt.tight_layout()\n",
    "# plt.savefig(\"../output/top5Starts.png\")"
   ]
  },
  {
   "cell_type": "markdown",
   "metadata": {},
   "source": [
    "## b. Trip duration by user type"
   ]
  },
  {
   "cell_type": "code",
   "execution_count": 15,
   "metadata": {},
   "outputs": [],
   "source": [
    "def getDuration(x):\n",
    "    trips = x['trip_id'].nunique()\n",
    "    sum_dur = np.sum(x['end_time'] - x['start_time'])/ np.timedelta64(1, 'h') /24\n",
    "    mean_dur = (x['end_time'] - x['start_time']).mean() / np.timedelta64(1, 'm')\n",
    "    med_dur = (x['end_time'] - x['start_time']).median() / np.timedelta64(1, 'm')\n",
    "    return [trips, sum_dur, mean_dur, med_dur]"
   ]
  },
  {
   "cell_type": "code",
   "execution_count": 16,
   "metadata": {
    "scrolled": true
   },
   "outputs": [
    {
     "data": {
      "text/html": [
       "<div>\n",
       "<style scoped>\n",
       "    .dataframe tbody tr th:only-of-type {\n",
       "        vertical-align: middle;\n",
       "    }\n",
       "\n",
       "    .dataframe tbody tr th {\n",
       "        vertical-align: top;\n",
       "    }\n",
       "\n",
       "    .dataframe thead th {\n",
       "        text-align: right;\n",
       "    }\n",
       "</style>\n",
       "<table border=\"1\" class=\"dataframe\">\n",
       "  <thead>\n",
       "    <tr style=\"text-align: right;\">\n",
       "      <th></th>\n",
       "      <th>usertype</th>\n",
       "      <th>Trip Information</th>\n",
       "    </tr>\n",
       "  </thead>\n",
       "  <tbody>\n",
       "    <tr>\n",
       "      <th>0</th>\n",
       "      <td>Customer</td>\n",
       "      <td>[836861, 17977.886886574073, 30.93442858246666...</td>\n",
       "    </tr>\n",
       "    <tr>\n",
       "      <th>1</th>\n",
       "      <td>Dependent</td>\n",
       "      <td>[7, 0.06091435185185185, 12.53095238095, 13.4]</td>\n",
       "    </tr>\n",
       "    <tr>\n",
       "      <th>2</th>\n",
       "      <td>Subscriber</td>\n",
       "      <td>[2992135, 24372.93689814815, 11.72976123513333...</td>\n",
       "    </tr>\n",
       "  </tbody>\n",
       "</table>\n",
       "</div>"
      ],
      "text/plain": [
       "     usertype                                   Trip Information\n",
       "0    Customer  [836861, 17977.886886574073, 30.93442858246666...\n",
       "1   Dependent     [7, 0.06091435185185185, 12.53095238095, 13.4]\n",
       "2  Subscriber  [2992135, 24372.93689814815, 11.72976123513333..."
      ]
     },
     "execution_count": 16,
     "metadata": {},
     "output_type": "execute_result"
    }
   ],
   "source": [
    "trip_dur = pd.DataFrame(combined.groupby(\"usertype\").apply(getDuration)).reset_index().rename(columns = {0:\"Trip Information\"})\n",
    "trip_dur"
   ]
  },
  {
   "cell_type": "code",
   "execution_count": 17,
   "metadata": {},
   "outputs": [],
   "source": [
    "def segInfo(x):\n",
    "    x['# of Trips'] = x['Trip Information'][0]\n",
    "    x['Total Duration (days)'] = x['Trip Information'][1]\n",
    "    x['Mean Duration (min)'] = x['Trip Information'][2]\n",
    "    x['Median Duration (min)'] = x['Trip Information'][3]\n",
    "    return x"
   ]
  },
  {
   "cell_type": "code",
   "execution_count": 18,
   "metadata": {
    "scrolled": true
   },
   "outputs": [],
   "source": [
    "trip_dur = trip_dur.apply(segInfo, axis = 1)[['usertype','# of Trips','Total Duration (days)',\n",
    "                                   'Mean Duration (min)','Median Duration (min)']]"
   ]
  },
  {
   "cell_type": "code",
   "execution_count": 19,
   "metadata": {},
   "outputs": [
    {
     "data": {
      "text/html": [
       "<div>\n",
       "<style scoped>\n",
       "    .dataframe tbody tr th:only-of-type {\n",
       "        vertical-align: middle;\n",
       "    }\n",
       "\n",
       "    .dataframe tbody tr th {\n",
       "        vertical-align: top;\n",
       "    }\n",
       "\n",
       "    .dataframe thead th {\n",
       "        text-align: right;\n",
       "    }\n",
       "</style>\n",
       "<table border=\"1\" class=\"dataframe\">\n",
       "  <thead>\n",
       "    <tr style=\"text-align: right;\">\n",
       "      <th></th>\n",
       "      <th>usertype</th>\n",
       "      <th># of Trips</th>\n",
       "      <th>Total Duration (days)</th>\n",
       "      <th>Mean Duration (min)</th>\n",
       "      <th>Median Duration (min)</th>\n",
       "    </tr>\n",
       "  </thead>\n",
       "  <tbody>\n",
       "    <tr>\n",
       "      <th>0</th>\n",
       "      <td>Customer</td>\n",
       "      <td>836861</td>\n",
       "      <td>17977.886887</td>\n",
       "      <td>30.934429</td>\n",
       "      <td>22.85</td>\n",
       "    </tr>\n",
       "    <tr>\n",
       "      <th>1</th>\n",
       "      <td>Dependent</td>\n",
       "      <td>7</td>\n",
       "      <td>0.060914</td>\n",
       "      <td>12.530952</td>\n",
       "      <td>13.40</td>\n",
       "    </tr>\n",
       "    <tr>\n",
       "      <th>2</th>\n",
       "      <td>Subscriber</td>\n",
       "      <td>2992135</td>\n",
       "      <td>24372.936898</td>\n",
       "      <td>11.729761</td>\n",
       "      <td>9.55</td>\n",
       "    </tr>\n",
       "  </tbody>\n",
       "</table>\n",
       "</div>"
      ],
      "text/plain": [
       "     usertype  # of Trips  Total Duration (days)  Mean Duration (min)  \\\n",
       "0    Customer      836861           17977.886887            30.934429   \n",
       "1   Dependent           7               0.060914            12.530952   \n",
       "2  Subscriber     2992135           24372.936898            11.729761   \n",
       "\n",
       "   Median Duration (min)  \n",
       "0                  22.85  \n",
       "1                  13.40  \n",
       "2                   9.55  "
      ]
     },
     "execution_count": 19,
     "metadata": {},
     "output_type": "execute_result"
    }
   ],
   "source": [
    "trip_dur"
   ]
  },
  {
   "cell_type": "code",
   "execution_count": 331,
   "metadata": {},
   "outputs": [
    {
     "data": {
      "image/png": "[encoded data removed]",
      "text/plain": [
       "<Figure size 576x504 with 4 Axes>"
      ]
     },
     "metadata": {
      "needs_background": "light"
     },
     "output_type": "display_data"
    }
   ],
   "source": [
    "trip_dur.set_index(\"usertype\").plot.barh(subplots = True, sharex = False, layout=(2,2), \n",
    "                                         figsize = (8,7), sharey = True, legend = False, fontsize = 8, \n",
    "                                         alpha = 0.75)\n",
    "#plt.tight_layout()\n",
    "#plt.savefig(\"../output/usertypes.png\")"
   ]
  },
  {
   "cell_type": "markdown",
   "metadata": {},
   "source": [
    "## c. Most popular trips based on start station and stop station"
   ]
  },
  {
   "cell_type": "code",
   "execution_count": 707,
   "metadata": {},
   "outputs": [
    {
     "data": {
      "text/html": [
       "<div>\n",
       "<style scoped>\n",
       "    .dataframe tbody tr th:only-of-type {\n",
       "        vertical-align: middle;\n",
       "    }\n",
       "\n",
       "    .dataframe tbody tr th {\n",
       "        vertical-align: top;\n",
       "    }\n",
       "\n",
       "    .dataframe thead th {\n",
       "        text-align: right;\n",
       "    }\n",
       "</style>\n",
       "<table border=\"1\" class=\"dataframe\">\n",
       "  <thead>\n",
       "    <tr style=\"text-align: right;\">\n",
       "      <th></th>\n",
       "      <th>from_station_name</th>\n",
       "      <th>to_station_name</th>\n",
       "      <th># of Trips</th>\n",
       "    </tr>\n",
       "  </thead>\n",
       "  <tbody>\n",
       "    <tr>\n",
       "      <th>0</th>\n",
       "      <td>Lake Shore Dr &amp; Monroe St</td>\n",
       "      <td>Streeter Dr &amp; Grand Ave</td>\n",
       "      <td>12171</td>\n",
       "    </tr>\n",
       "    <tr>\n",
       "      <th>1</th>\n",
       "      <td>Streeter Dr &amp; Grand Ave</td>\n",
       "      <td>Streeter Dr &amp; Grand Ave</td>\n",
       "      <td>10042</td>\n",
       "    </tr>\n",
       "    <tr>\n",
       "      <th>2</th>\n",
       "      <td>Streeter Dr &amp; Grand Ave</td>\n",
       "      <td>Theater on the Lake</td>\n",
       "      <td>8180</td>\n",
       "    </tr>\n",
       "    <tr>\n",
       "      <th>3</th>\n",
       "      <td>Streeter Dr &amp; Grand Ave</td>\n",
       "      <td>Lake Shore Dr &amp; North Blvd</td>\n",
       "      <td>7993</td>\n",
       "    </tr>\n",
       "    <tr>\n",
       "      <th>4</th>\n",
       "      <td>Lake Shore Dr &amp; North Blvd</td>\n",
       "      <td>Streeter Dr &amp; Grand Ave</td>\n",
       "      <td>7226</td>\n",
       "    </tr>\n",
       "  </tbody>\n",
       "</table>\n",
       "</div>"
      ],
      "text/plain": [
       "            from_station_name             to_station_name  # of Trips\n",
       "0   Lake Shore Dr & Monroe St     Streeter Dr & Grand Ave       12171\n",
       "1     Streeter Dr & Grand Ave     Streeter Dr & Grand Ave       10042\n",
       "2     Streeter Dr & Grand Ave         Theater on the Lake        8180\n",
       "3     Streeter Dr & Grand Ave  Lake Shore Dr & North Blvd        7993\n",
       "4  Lake Shore Dr & North Blvd     Streeter Dr & Grand Ave        7226"
      ]
     },
     "execution_count": 707,
     "metadata": {},
     "output_type": "execute_result"
    }
   ],
   "source": [
    "pd.DataFrame(combined.groupby([\"from_station_name\", \"to_station_name\"]).size().sort_values(ascending=False)[:5])\\\n",
    "    .reset_index().rename(columns = {0:\"# of Trips\"})"
   ]
  },
  {
   "cell_type": "code",
   "execution_count": 343,
   "metadata": {},
   "outputs": [
    {
     "data": {
      "image/png": "[encoded data removed]",
      "text/plain": [
       "<Figure size 576x216 with 1 Axes>"
      ]
     },
     "metadata": {
      "needs_background": "light"
     },
     "output_type": "display_data"
    }
   ],
   "source": [
    "pd.DataFrame(combined.groupby([\"from_station_name\", \"to_station_name\"]).size().sort_values(ascending=False)[:5])\\\n",
    "    .rename(columns = {0:\"# of Trips\"}).plot.barh(alpha = .75, fontsize = 10, figsize = (8, 3), \n",
    "                                                  title = \"Most Popular Trips\")\n",
    "# plt.tight_layout()\n",
    "# plt.savefig(\"../output/toptrips.png\")"
   ]
  },
  {
   "cell_type": "markdown",
   "metadata": {},
   "source": [
    "> The most popular is from Lake Shore Dr & Monroe St to Streeter Dr & Grand Ave\n",
    "<br> Streeter Dr & Grand Ave is right next to Navy Pier (a famous touristy spot with a series of shops and restaurants) so it makes sense that it appears as a stop in all of the top 5 trips. <br> Moreover, lakeshore is the scenic drive right along the pier. Bike-friendly and perfect for a pleasant short ride."
   ]
  },
  {
   "cell_type": "markdown",
   "metadata": {},
   "source": [
    "## d. Rider performance by Gender and Age based on avg trip distance (station to station), median speed (distance traveled / trip duration)"
   ]
  },
  {
   "cell_type": "code",
   "execution_count": 154,
   "metadata": {},
   "outputs": [],
   "source": [
    "today = datetime.datetime.today()"
   ]
  },
  {
   "cell_type": "code",
   "execution_count": 155,
   "metadata": {},
   "outputs": [],
   "source": [
    "combined['age'] = today.year - combined.birthyear"
   ]
  },
  {
   "cell_type": "code",
   "execution_count": 156,
   "metadata": {},
   "outputs": [],
   "source": [
    "id_locs = ['id', 'latitude', 'longitude']"
   ]
  },
  {
   "cell_type": "code",
   "execution_count": 157,
   "metadata": {
    "scrolled": true
   },
   "outputs": [],
   "source": [
    "# add from station coordinates to df\n",
    "new = combined.merge(stops[id_locs].rename(columns = dict(zip(id_locs, [\"from_station_\"+x for x in id_locs]))), \n",
    "                     on=\"from_station_id\", how=\"left\")"
   ]
  },
  {
   "cell_type": "code",
   "execution_count": 158,
   "metadata": {
    "scrolled": true
   },
   "outputs": [],
   "source": [
    "# add to station coordinates to df\n",
    "new = new.merge(stops[id_locs].rename(columns = dict(zip(id_locs, [\"to_station_\"+x for x in id_locs]))), \n",
    "                     on=\"to_station_id\", how=\"left\")"
   ]
  },
  {
   "cell_type": "code",
   "execution_count": 159,
   "metadata": {},
   "outputs": [],
   "source": [
    "R = 3961 # miles, earth radius\n",
    "def distance(x):\n",
    "    dlon = x['to_station_longitude'] - x['from_station_longitude']\n",
    "    dlat = x['to_station_latitude'] - x['from_station_latitude']\n",
    "    a = (math.sin(dlat/2))**2 + math.cos(x['from_station_latitude']) * math.cos(x['to_station_latitude']) * (math.sin(dlon/2))**2 \n",
    "    c = 2 * math.atan2(math.sqrt(a), math.sqrt(1-a) ) \n",
    "    d = R * c\n",
    "    return d"
   ]
  },
  {
   "cell_type": "code",
   "execution_count": 160,
   "metadata": {},
   "outputs": [
    {
     "name": "stdout",
     "output_type": "stream",
     "text": [
      "CPU times: user 2min 43s, sys: 19.1 s, total: 3min 2s\n",
      "Wall time: 4min 41s\n"
     ]
    }
   ],
   "source": [
    "%%time\n",
    "# calculate distance (miles)\n",
    "new['distance'] = new.apply(distance, axis = 1)"
   ]
  },
  {
   "cell_type": "code",
   "execution_count": 161,
   "metadata": {},
   "outputs": [
    {
     "name": "stdout",
     "output_type": "stream",
     "text": [
      "CPU times: user 2min 49s, sys: 18.9 s, total: 3min 8s\n",
      "Wall time: 3min 34s\n"
     ]
    }
   ],
   "source": [
    "%%time\n",
    "# calculate duration (minutes): tripduration has nulls\n",
    "new['duration'] = new.apply(lambda x: (x['end_time'] - x['start_time'])/ np.timedelta64(1, 'm'), axis = 1)"
   ]
  },
  {
   "cell_type": "code",
   "execution_count": 162,
   "metadata": {},
   "outputs": [],
   "source": [
    "new['speed'] = new.distance/new.tripduration"
   ]
  },
  {
   "cell_type": "code",
   "execution_count": 33,
   "metadata": {},
   "outputs": [
    {
     "data": {
      "text/html": [
       "<div>\n",
       "<style scoped>\n",
       "    .dataframe tbody tr th:only-of-type {\n",
       "        vertical-align: middle;\n",
       "    }\n",
       "\n",
       "    .dataframe tbody tr th {\n",
       "        vertical-align: top;\n",
       "    }\n",
       "\n",
       "    .dataframe thead th {\n",
       "        text-align: right;\n",
       "    }\n",
       "</style>\n",
       "<table border=\"1\" class=\"dataframe\">\n",
       "  <thead>\n",
       "    <tr style=\"text-align: right;\">\n",
       "      <th></th>\n",
       "      <th></th>\n",
       "      <th>distance</th>\n",
       "      <th>speed</th>\n",
       "    </tr>\n",
       "    <tr>\n",
       "      <th>gender</th>\n",
       "      <th>age</th>\n",
       "      <th></th>\n",
       "      <th></th>\n",
       "    </tr>\n",
       "  </thead>\n",
       "  <tbody>\n",
       "    <tr>\n",
       "      <th rowspan=\"18\" valign=\"top\">Female</th>\n",
       "      <th>(10, 15]</th>\n",
       "      <td>44.330429</td>\n",
       "      <td>0.085886</td>\n",
       "    </tr>\n",
       "    <tr>\n",
       "      <th>(15, 20]</th>\n",
       "      <td>56.031956</td>\n",
       "      <td>0.083194</td>\n",
       "    </tr>\n",
       "    <tr>\n",
       "      <th>(20, 25]</th>\n",
       "      <td>58.630159</td>\n",
       "      <td>0.081900</td>\n",
       "    </tr>\n",
       "    <tr>\n",
       "      <th>(25, 30]</th>\n",
       "      <td>63.479342</td>\n",
       "      <td>0.083845</td>\n",
       "    </tr>\n",
       "    <tr>\n",
       "      <th>(30, 35]</th>\n",
       "      <td>65.643909</td>\n",
       "      <td>0.084566</td>\n",
       "    </tr>\n",
       "    <tr>\n",
       "      <th>(35, 40]</th>\n",
       "      <td>65.102701</td>\n",
       "      <td>0.084237</td>\n",
       "    </tr>\n",
       "    <tr>\n",
       "      <th>(40, 45]</th>\n",
       "      <td>62.111926</td>\n",
       "      <td>0.082331</td>\n",
       "    </tr>\n",
       "    <tr>\n",
       "      <th>(45, 50]</th>\n",
       "      <td>63.327784</td>\n",
       "      <td>0.080953</td>\n",
       "    </tr>\n",
       "    <tr>\n",
       "      <th>(50, 55]</th>\n",
       "      <td>55.953414</td>\n",
       "      <td>0.075615</td>\n",
       "    </tr>\n",
       "    <tr>\n",
       "      <th>(55, 60]</th>\n",
       "      <td>58.493101</td>\n",
       "      <td>0.075685</td>\n",
       "    </tr>\n",
       "    <tr>\n",
       "      <th>(60, 65]</th>\n",
       "      <td>55.666894</td>\n",
       "      <td>0.073248</td>\n",
       "    </tr>\n",
       "    <tr>\n",
       "      <th>(65, 70]</th>\n",
       "      <td>55.308673</td>\n",
       "      <td>0.069786</td>\n",
       "    </tr>\n",
       "    <tr>\n",
       "      <th>(70, 75]</th>\n",
       "      <td>58.979863</td>\n",
       "      <td>0.061986</td>\n",
       "    </tr>\n",
       "    <tr>\n",
       "      <th>(75, 80]</th>\n",
       "      <td>54.436759</td>\n",
       "      <td>0.053762</td>\n",
       "    </tr>\n",
       "    <tr>\n",
       "      <th>(80, 85]</th>\n",
       "      <td>87.282205</td>\n",
       "      <td>0.084475</td>\n",
       "    </tr>\n",
       "    <tr>\n",
       "      <th>(85, 90]</th>\n",
       "      <td>36.784853</td>\n",
       "      <td>0.065465</td>\n",
       "    </tr>\n",
       "    <tr>\n",
       "      <th>(100, 105]</th>\n",
       "      <td>20.749898</td>\n",
       "      <td>0.035428</td>\n",
       "    </tr>\n",
       "    <tr>\n",
       "      <th>(105, 110]</th>\n",
       "      <td>48.135597</td>\n",
       "      <td>0.090142</td>\n",
       "    </tr>\n",
       "    <tr>\n",
       "      <th rowspan=\"21\" valign=\"top\">Male</th>\n",
       "      <th>(0, 5]</th>\n",
       "      <td>25.481642</td>\n",
       "      <td>0.021004</td>\n",
       "    </tr>\n",
       "    <tr>\n",
       "      <th>(10, 15]</th>\n",
       "      <td>35.021926</td>\n",
       "      <td>0.057053</td>\n",
       "    </tr>\n",
       "    <tr>\n",
       "      <th>(15, 20]</th>\n",
       "      <td>44.351472</td>\n",
       "      <td>0.086176</td>\n",
       "    </tr>\n",
       "    <tr>\n",
       "      <th>(20, 25]</th>\n",
       "      <td>48.987959</td>\n",
       "      <td>0.085135</td>\n",
       "    </tr>\n",
       "    <tr>\n",
       "      <th>(25, 30]</th>\n",
       "      <td>59.720609</td>\n",
       "      <td>0.090768</td>\n",
       "    </tr>\n",
       "    <tr>\n",
       "      <th>(30, 35]</th>\n",
       "      <td>61.375676</td>\n",
       "      <td>0.091280</td>\n",
       "    </tr>\n",
       "    <tr>\n",
       "      <th>(35, 40]</th>\n",
       "      <td>61.993346</td>\n",
       "      <td>0.091089</td>\n",
       "    </tr>\n",
       "    <tr>\n",
       "      <th>(40, 45]</th>\n",
       "      <td>59.474554</td>\n",
       "      <td>0.088002</td>\n",
       "    </tr>\n",
       "    <tr>\n",
       "      <th>(45, 50]</th>\n",
       "      <td>57.139597</td>\n",
       "      <td>0.086579</td>\n",
       "    </tr>\n",
       "    <tr>\n",
       "      <th>(50, 55]</th>\n",
       "      <td>54.858041</td>\n",
       "      <td>0.084577</td>\n",
       "    </tr>\n",
       "    <tr>\n",
       "      <th>(55, 60]</th>\n",
       "      <td>52.551013</td>\n",
       "      <td>0.080537</td>\n",
       "    </tr>\n",
       "    <tr>\n",
       "      <th>(60, 65]</th>\n",
       "      <td>49.594828</td>\n",
       "      <td>0.075296</td>\n",
       "    </tr>\n",
       "    <tr>\n",
       "      <th>(65, 70]</th>\n",
       "      <td>47.910473</td>\n",
       "      <td>0.074857</td>\n",
       "    </tr>\n",
       "    <tr>\n",
       "      <th>(70, 75]</th>\n",
       "      <td>59.269700</td>\n",
       "      <td>0.076093</td>\n",
       "    </tr>\n",
       "    <tr>\n",
       "      <th>(75, 80]</th>\n",
       "      <td>47.736813</td>\n",
       "      <td>0.065304</td>\n",
       "    </tr>\n",
       "    <tr>\n",
       "      <th>(80, 85]</th>\n",
       "      <td>34.801240</td>\n",
       "      <td>0.054503</td>\n",
       "    </tr>\n",
       "    <tr>\n",
       "      <th>(85, 90]</th>\n",
       "      <td>80.264360</td>\n",
       "      <td>0.074763</td>\n",
       "    </tr>\n",
       "    <tr>\n",
       "      <th>(95, 100]</th>\n",
       "      <td>92.539379</td>\n",
       "      <td>0.090109</td>\n",
       "    </tr>\n",
       "    <tr>\n",
       "      <th>(100, 105]</th>\n",
       "      <td>127.814450</td>\n",
       "      <td>0.137791</td>\n",
       "    </tr>\n",
       "    <tr>\n",
       "      <th>(105, 110]</th>\n",
       "      <td>117.778861</td>\n",
       "      <td>0.109667</td>\n",
       "    </tr>\n",
       "    <tr>\n",
       "      <th>(110, 115]</th>\n",
       "      <td>41.638479</td>\n",
       "      <td>0.046487</td>\n",
       "    </tr>\n",
       "  </tbody>\n",
       "</table>\n",
       "</div>"
      ],
      "text/plain": [
       "                     distance     speed\n",
       "gender age                             \n",
       "Female (10, 15]     44.330429  0.085886\n",
       "       (15, 20]     56.031956  0.083194\n",
       "       (20, 25]     58.630159  0.081900\n",
       "       (25, 30]     63.479342  0.083845\n",
       "       (30, 35]     65.643909  0.084566\n",
       "       (35, 40]     65.102701  0.084237\n",
       "       (40, 45]     62.111926  0.082331\n",
       "       (45, 50]     63.327784  0.080953\n",
       "       (50, 55]     55.953414  0.075615\n",
       "       (55, 60]     58.493101  0.075685\n",
       "       (60, 65]     55.666894  0.073248\n",
       "       (65, 70]     55.308673  0.069786\n",
       "       (70, 75]     58.979863  0.061986\n",
       "       (75, 80]     54.436759  0.053762\n",
       "       (80, 85]     87.282205  0.084475\n",
       "       (85, 90]     36.784853  0.065465\n",
       "       (100, 105]   20.749898  0.035428\n",
       "       (105, 110]   48.135597  0.090142\n",
       "Male   (0, 5]       25.481642  0.021004\n",
       "       (10, 15]     35.021926  0.057053\n",
       "       (15, 20]     44.351472  0.086176\n",
       "       (20, 25]     48.987959  0.085135\n",
       "       (25, 30]     59.720609  0.090768\n",
       "       (30, 35]     61.375676  0.091280\n",
       "       (35, 40]     61.993346  0.091089\n",
       "       (40, 45]     59.474554  0.088002\n",
       "       (45, 50]     57.139597  0.086579\n",
       "       (50, 55]     54.858041  0.084577\n",
       "       (55, 60]     52.551013  0.080537\n",
       "       (60, 65]     49.594828  0.075296\n",
       "       (65, 70]     47.910473  0.074857\n",
       "       (70, 75]     59.269700  0.076093\n",
       "       (75, 80]     47.736813  0.065304\n",
       "       (80, 85]     34.801240  0.054503\n",
       "       (85, 90]     80.264360  0.074763\n",
       "       (95, 100]    92.539379  0.090109\n",
       "       (100, 105]  127.814450  0.137791\n",
       "       (105, 110]  117.778861  0.109667\n",
       "       (110, 115]   41.638479  0.046487"
      ]
     },
     "execution_count": 33,
     "metadata": {},
     "output_type": "execute_result"
    }
   ],
   "source": [
    "# Rider performance by Gender and Age\n",
    "new.groupby([\"gender\", pd.cut(new.age, range(0, int(new.age.max()), 5))]).agg({'distance':'mean', 'speed':'mean'})"
   ]
  },
  {
   "cell_type": "code",
   "execution_count": 379,
   "metadata": {},
   "outputs": [
    {
     "data": {
      "image/png": "[encoded data removed]",
      "text/plain": [
       "<Figure size 360x288 with 2 Axes>"
      ]
     },
     "metadata": {
      "needs_background": "light"
     },
     "output_type": "display_data"
    }
   ],
   "source": [
    "# Rider performance by Gender\n",
    "new.groupby(\"gender\").agg({'distance':'mean', 'speed':'mean'})\\\n",
    "    .plot.bar(rot=0, subplots=True, layout = (2,1), figsize = (5,4), \n",
    "              title = \"Avg. Distance and Speed by Gender\", fontsize = 11,\n",
    "              legend = False)\n",
    "plt.savefig(\"../output/rider_by_gender.png\")"
   ]
  },
  {
   "cell_type": "code",
   "execution_count": 48,
   "metadata": {},
   "outputs": [
    {
     "data": {
      "text/plain": [
       "Ttest_indResult(statistic=64.81688503899201, pvalue=0.0)"
      ]
     },
     "execution_count": 48,
     "metadata": {},
     "output_type": "execute_result"
    }
   ],
   "source": [
    "# check if the difference in distance is significant\n",
    "stats.ttest_ind(new[new.gender == 'Female']['distance'].dropna(),new[new.gender == 'Male']['distance'].dropna(),\n",
    "               equal_var=False)"
   ]
  },
  {
   "cell_type": "code",
   "execution_count": 49,
   "metadata": {},
   "outputs": [
    {
     "data": {
      "text/plain": [
       "Ttest_indResult(statistic=-148.29292204626196, pvalue=0.0)"
      ]
     },
     "execution_count": 49,
     "metadata": {},
     "output_type": "execute_result"
    }
   ],
   "source": [
    "# check if the difference in speed is significant\n",
    "stats.ttest_ind(new[new.gender == 'Female']['speed'].dropna(),new[new.gender == 'Male']['speed'].dropna(),\n",
    "               equal_var=False)"
   ]
  },
  {
   "cell_type": "code",
   "execution_count": 367,
   "metadata": {},
   "outputs": [
    {
     "data": {
      "image/png": "[encoded data removed]",
      "text/plain": [
       "<Figure size 936x288 with 2 Axes>"
      ]
     },
     "metadata": {
      "needs_background": "light"
     },
     "output_type": "display_data"
    }
   ],
   "source": [
    "new.groupby(\"age\").agg({'distance':'mean', 'speed':'mean'})\\\n",
    "    .plot.bar(rot=90, subplots=True, sharex=True, figsize = (13,4), title = \"Avg. Distance and Speed by Age\", \n",
    "              legend = False,\n",
    "              fontsize = 10)\n",
    "plt.savefig(\"../output/rider_by_age.png\")"
   ]
  },
  {
   "cell_type": "code",
   "execution_count": 75,
   "metadata": {
    "scrolled": true
   },
   "outputs": [
    {
     "data": {
      "text/plain": [
       "130.20153396055045"
      ]
     },
     "execution_count": 75,
     "metadata": {},
     "output_type": "execute_result"
    }
   ],
   "source": [
    "# check if the difference in distance is significant\n",
    "(new[new.usertype == 'Customer'].dropna()['duration'].mean() - new[new.usertype == 'Subscriber'].dropna()['duration']\\\n",
    "     .mean())/(new[new.usertype == 'Subscriber'].dropna()['duration']\\\n",
    "               .var()/new.usertype.value_counts()['Subscriber']+new[new.usertype == 'Customer'].dropna()['duration']\\\n",
    "               .var()/new.usertype.value_counts()['Customer'])**(1/2)"
   ]
  },
  {
   "cell_type": "code",
   "execution_count": 170,
   "metadata": {},
   "outputs": [
    {
     "data": {
      "text/plain": [
       "array([<matplotlib.axes._subplots.AxesSubplot object at 0x1c3db36e80>,\n",
       "       <matplotlib.axes._subplots.AxesSubplot object at 0x1c3d7855f8>],\n",
       "      dtype=object)"
      ]
     },
     "execution_count": 170,
     "metadata": {},
     "output_type": "execute_result"
    },
    {
     "data": {
      "image/png": "[encoded data removed]",
      "text/plain": [
       "<Figure size 432x288 with 2 Axes>"
      ]
     },
     "metadata": {
      "needs_background": "light"
     },
     "output_type": "display_data"
    }
   ],
   "source": [
    "new['duration'].hist(by=new['usertype'], bins = 50)"
   ]
  },
  {
   "cell_type": "markdown",
   "metadata": {},
   "source": [
    "> definitely different distributions"
   ]
  },
  {
   "cell_type": "markdown",
   "metadata": {},
   "source": [
    "## e. What is the busiest bike in Chicago in 2017? How many times was it used? How many minutes was it in use?"
   ]
  },
  {
   "cell_type": "code",
   "execution_count": 392,
   "metadata": {},
   "outputs": [
    {
     "data": {
      "text/html": [
       "<div>\n",
       "<style scoped>\n",
       "    .dataframe tbody tr th:only-of-type {\n",
       "        vertical-align: middle;\n",
       "    }\n",
       "\n",
       "    .dataframe tbody tr th {\n",
       "        vertical-align: top;\n",
       "    }\n",
       "\n",
       "    .dataframe thead tr th {\n",
       "        text-align: left;\n",
       "    }\n",
       "\n",
       "    .dataframe thead tr:last-of-type th {\n",
       "        text-align: right;\n",
       "    }\n",
       "</style>\n",
       "<table border=\"1\" class=\"dataframe\">\n",
       "  <thead>\n",
       "    <tr>\n",
       "      <th></th>\n",
       "      <th colspan=\"2\" halign=\"left\">duration</th>\n",
       "    </tr>\n",
       "    <tr>\n",
       "      <th></th>\n",
       "      <th>sum</th>\n",
       "      <th>size</th>\n",
       "    </tr>\n",
       "    <tr>\n",
       "      <th>bikeid</th>\n",
       "      <th></th>\n",
       "      <th></th>\n",
       "    </tr>\n",
       "  </thead>\n",
       "  <tbody>\n",
       "    <tr>\n",
       "      <th>2565</th>\n",
       "      <td>22526.233333</td>\n",
       "      <td>1489</td>\n",
       "    </tr>\n",
       "    <tr>\n",
       "      <th>3308</th>\n",
       "      <td>17662.116667</td>\n",
       "      <td>1234</td>\n",
       "    </tr>\n",
       "    <tr>\n",
       "      <th>3489</th>\n",
       "      <td>17620.050000</td>\n",
       "      <td>1225</td>\n",
       "    </tr>\n",
       "    <tr>\n",
       "      <th>3128</th>\n",
       "      <td>18253.416667</td>\n",
       "      <td>1210</td>\n",
       "    </tr>\n",
       "    <tr>\n",
       "      <th>5880</th>\n",
       "      <td>20699.533333</td>\n",
       "      <td>1177</td>\n",
       "    </tr>\n",
       "  </tbody>\n",
       "</table>\n",
       "</div>"
      ],
      "text/plain": [
       "            duration      \n",
       "                 sum  size\n",
       "bikeid                    \n",
       "2565    22526.233333  1489\n",
       "3308    17662.116667  1234\n",
       "3489    17620.050000  1225\n",
       "3128    18253.416667  1210\n",
       "5880    20699.533333  1177"
      ]
     },
     "execution_count": 392,
     "metadata": {},
     "output_type": "execute_result"
    }
   ],
   "source": [
    "# busiest by occupied duration (minutes)\n",
    "new.groupby(\"bikeid\").agg({\"duration\":[\"sum\",\"size\"]}).sort_values(by=(\"duration\", \"size\"), ascending = False).head(5)"
   ]
  },
  {
   "cell_type": "code",
   "execution_count": 395,
   "metadata": {},
   "outputs": [
    {
     "data": {
      "image/png": "[encoded data removed]",
      "text/plain": [
       "<Figure size 432x288 with 1 Axes>"
      ]
     },
     "metadata": {
      "needs_background": "light"
     },
     "output_type": "display_data"
    }
   ],
   "source": [
    "# busiest by occupied duration (minutes)\n",
    "ax = new.groupby(\"bikeid\").agg({\"duration\":[\"sum\",\"size\"]}).sort_values(by=(\"duration\", \"size\"), ascending = False)\\\n",
    "    .head(5).plot.bar(title = \"Busiest Bikes by Duration\", alpha = .75)\n",
    "ax.legend(['total duration', '# of trips'])\n",
    "plt.savefig(\"../output/dur_busy.png\")"
   ]
  },
  {
   "cell_type": "code",
   "execution_count": 391,
   "metadata": {},
   "outputs": [
    {
     "data": {
      "text/html": [
       "<div>\n",
       "<style scoped>\n",
       "    .dataframe tbody tr th:only-of-type {\n",
       "        vertical-align: middle;\n",
       "    }\n",
       "\n",
       "    .dataframe tbody tr th {\n",
       "        vertical-align: top;\n",
       "    }\n",
       "\n",
       "    .dataframe thead tr th {\n",
       "        text-align: left;\n",
       "    }\n",
       "\n",
       "    .dataframe thead tr:last-of-type th {\n",
       "        text-align: right;\n",
       "    }\n",
       "</style>\n",
       "<table border=\"1\" class=\"dataframe\">\n",
       "  <thead>\n",
       "    <tr>\n",
       "      <th></th>\n",
       "      <th colspan=\"2\" halign=\"left\">duration</th>\n",
       "    </tr>\n",
       "    <tr>\n",
       "      <th></th>\n",
       "      <th>sum</th>\n",
       "      <th>size</th>\n",
       "    </tr>\n",
       "    <tr>\n",
       "      <th>bikeid</th>\n",
       "      <th></th>\n",
       "      <th></th>\n",
       "    </tr>\n",
       "  </thead>\n",
       "  <tbody>\n",
       "    <tr>\n",
       "      <th>2565</th>\n",
       "      <td>22526.233333</td>\n",
       "      <td>1489</td>\n",
       "    </tr>\n",
       "    <tr>\n",
       "      <th>3308</th>\n",
       "      <td>17662.116667</td>\n",
       "      <td>1234</td>\n",
       "    </tr>\n",
       "    <tr>\n",
       "      <th>3489</th>\n",
       "      <td>17620.050000</td>\n",
       "      <td>1225</td>\n",
       "    </tr>\n",
       "    <tr>\n",
       "      <th>3128</th>\n",
       "      <td>18253.416667</td>\n",
       "      <td>1210</td>\n",
       "    </tr>\n",
       "    <tr>\n",
       "      <th>5880</th>\n",
       "      <td>20699.533333</td>\n",
       "      <td>1177</td>\n",
       "    </tr>\n",
       "  </tbody>\n",
       "</table>\n",
       "</div>"
      ],
      "text/plain": [
       "            duration      \n",
       "                 sum  size\n",
       "bikeid                    \n",
       "2565    22526.233333  1489\n",
       "3308    17662.116667  1234\n",
       "3489    17620.050000  1225\n",
       "3128    18253.416667  1210\n",
       "5880    20699.533333  1177"
      ]
     },
     "execution_count": 391,
     "metadata": {},
     "output_type": "execute_result"
    }
   ],
   "source": [
    "# busiest by number of usage\n",
    "new.groupby(\"bikeid\").agg({\"duration\":[\"sum\",\"size\"]}).sort_values(by=(\"duration\", \"size\"), ascending = False)\\\n",
    "    .head(5)"
   ]
  },
  {
   "cell_type": "code",
   "execution_count": 389,
   "metadata": {},
   "outputs": [
    {
     "data": {
      "image/png": "[encoded data removed]",
      "text/plain": [
       "<Figure size 432x288 with 1 Axes>"
      ]
     },
     "metadata": {
      "needs_background": "light"
     },
     "output_type": "display_data"
    }
   ],
   "source": [
    "# busiest by number of usage\n",
    "ax = new.groupby(\"bikeid\").agg({\"duration\":[\"sum\",\"size\"]}).sort_values(by=(\"duration\", \"size\"), ascending = False)\\\n",
    "    .head(5).plot.bar(title = \"Busiest Bikes by Usage\", alpha = .75)\n",
    "ax.legend(['total duration', '# of trips'])\n",
    "plt.savefig(\"../output/use_busy.png\")"
   ]
  },
  {
   "cell_type": "markdown",
   "metadata": {},
   "source": [
    "> The busiest bike in Chicago is #2565. It's been used 1,489 times for 22,526 minutes. (That's about 375 hours or 15.6 days.)"
   ]
  },
  {
   "cell_type": "markdown",
   "metadata": {},
   "source": [
    "# 3. Data Cleaning"
   ]
  },
  {
   "cell_type": "markdown",
   "metadata": {},
   "source": [
    "**a. What is the approach to deal with missing values, outliers, skewed data,mixed data type,etc:**"
   ]
  },
  {
   "cell_type": "markdown",
   "metadata": {},
   "source": [
    "- Mixed data types -> Converting to dummies, or further features engineering"
   ]
  },
  {
   "cell_type": "markdown",
   "metadata": {},
   "source": [
    "**bike ids** <br>\n",
    "There seems to be a lot of bikes, it's hard to turn all of them into dummies. Thus a binned \"popularity\" index is created to capture the bike information. Some other non-categorical data are treated as such as well. Please refer to the feature engineering section."
   ]
  },
  {
   "cell_type": "code",
   "execution_count": 43,
   "metadata": {},
   "outputs": [
    {
     "data": {
      "text/plain": [
       "6243"
      ]
     },
     "execution_count": 43,
     "metadata": {},
     "output_type": "execute_result"
    }
   ],
   "source": [
    "# unique bike ids\n",
    "new.bikeid.nunique()"
   ]
  },
  {
   "cell_type": "markdown",
   "metadata": {},
   "source": [
    "**stations** <br>\n",
    "Same with bike ids, will be transformed under feature engineering."
   ]
  },
  {
   "cell_type": "code",
   "execution_count": 83,
   "metadata": {},
   "outputs": [
    {
     "data": {
      "text/plain": [
       "(585, 585)"
      ]
     },
     "execution_count": 83,
     "metadata": {},
     "output_type": "execute_result"
    }
   ],
   "source": [
    "# unique stations\n",
    "new.from_station_id.nunique(), new.to_station_id.nunique()"
   ]
  },
  {
   "cell_type": "markdown",
   "metadata": {},
   "source": [
    "**user type**"
   ]
  },
  {
   "cell_type": "code",
   "execution_count": 171,
   "metadata": {},
   "outputs": [],
   "source": [
    "interim = new.join(pd.get_dummies(new.usertype, prefix='dum'))"
   ]
  },
  {
   "cell_type": "markdown",
   "metadata": {},
   "source": [
    "**stations** <br>\n",
    "There are also a lot of stations so will probably just keep the distance data alone between all 585 stations."
   ]
  },
  {
   "cell_type": "code",
   "execution_count": 172,
   "metadata": {},
   "outputs": [],
   "source": [
    "coordinates = {}\n",
    "for i in range(stops.shape[0]):\n",
    "    coordinates[stops.iloc[i,:]['id']] = (stops.iloc[i,:]['latitude'], stops.iloc[i,:]['longitude'])"
   ]
  },
  {
   "cell_type": "code",
   "execution_count": 173,
   "metadata": {},
   "outputs": [],
   "source": [
    "saved_dist = {}\n",
    "for x in stops.id:\n",
    "    for y in stops.id:\n",
    "        if y == x:\n",
    "            next\n",
    "        else:\n",
    "            dlon = coordinates[y][1] - coordinates[x][1]\n",
    "            dlat = coordinates[y][0] - coordinates[x][0]\n",
    "            a = (math.sin(dlat/2))**2 + math.cos(coordinates[x][0]) * math.cos(coordinates[y][0]) * (math.sin(dlon/2))**2 \n",
    "            c = 2 * math.atan2(math.sqrt(a), math.sqrt(1-a) ) \n",
    "            d = R * c     \n",
    "            saved_dist[(x,y)] = d"
   ]
  },
  {
   "cell_type": "markdown",
   "metadata": {},
   "source": [
    "- Missing values"
   ]
  },
  {
   "cell_type": "code",
   "execution_count": 174,
   "metadata": {
    "scrolled": true
   },
   "outputs": [
    {
     "data": {
      "text/plain": [
       "trip_id                   0.000000\n",
       "start_time                0.000000\n",
       "end_time                  0.000000\n",
       "bikeid                    0.000000\n",
       "tripduration              0.000000\n",
       "from_station_id           0.000000\n",
       "from_station_name         0.000000\n",
       "to_station_id             0.000000\n",
       "to_station_name           0.000000\n",
       "usertype                  0.000000\n",
       "gender                    0.000000\n",
       "birthyear                 0.000083\n",
       "age                       0.000083\n",
       "from_station_latitude     0.000771\n",
       "from_station_longitude    0.000771\n",
       "to_station_latitude       0.000640\n",
       "to_station_longitude      0.000640\n",
       "distance                  0.001397\n",
       "duration                  0.000000\n",
       "speed                     0.001397\n",
       "dtype: float64"
      ]
     },
     "execution_count": 174,
     "metadata": {},
     "output_type": "execute_result"
    }
   ],
   "source": [
    "new.isnull().sum()/new.shape[0]"
   ]
  },
  {
   "cell_type": "markdown",
   "metadata": {},
   "source": [
    "Gender and age are missing pretty significantly. Both might be important as thus might be good to be filled in ."
   ]
  },
  {
   "cell_type": "markdown",
   "metadata": {},
   "source": [
    "**Gender** <br>\n",
    "\n",
    "I will fill it in with another class representing unknown. If missing gender are removed, then no actions needed."
   ]
  },
  {
   "cell_type": "markdown",
   "metadata": {},
   "source": [
    "interim['gender'] = interim.gender.fillna(\"Unkown\")"
   ]
  },
  {
   "cell_type": "code",
   "execution_count": 175,
   "metadata": {},
   "outputs": [],
   "source": [
    "interim = interim.join(pd.get_dummies(interim.gender, prefix='dum'))"
   ]
  },
  {
   "cell_type": "code",
   "execution_count": 176,
   "metadata": {},
   "outputs": [
    {
     "data": {
      "text/plain": [
       "Male      2245546\n",
       "Female     746637\n",
       "Name: gender, dtype: int64"
      ]
     },
     "execution_count": 176,
     "metadata": {},
     "output_type": "execute_result"
    }
   ],
   "source": [
    "interim.gender.value_counts()"
   ]
  },
  {
   "cell_type": "markdown",
   "metadata": {},
   "source": [
    "**Age** <br>I will fill it in with the median since the distribution is quite skewed."
   ]
  },
  {
   "cell_type": "code",
   "execution_count": 177,
   "metadata": {},
   "outputs": [
    {
     "data": {
      "text/plain": [
       "<matplotlib.axes._subplots.AxesSubplot at 0x1c3dc41fd0>"
      ]
     },
     "execution_count": 177,
     "metadata": {},
     "output_type": "execute_result"
    },
    {
     "data": {
      "image/png": "[encoded data removed]",
      "text/plain": [
       "<Figure size 432x288 with 1 Axes>"
      ]
     },
     "metadata": {
      "needs_background": "light"
     },
     "output_type": "display_data"
    }
   ],
   "source": [
    "new.age.plot.hist()"
   ]
  },
  {
   "cell_type": "code",
   "execution_count": 178,
   "metadata": {},
   "outputs": [],
   "source": [
    "interim['age'] = interim.age.fillna(interim.age.median())"
   ]
  },
  {
   "cell_type": "code",
   "execution_count": 179,
   "metadata": {
    "scrolled": true
   },
   "outputs": [
    {
     "data": {
      "text/plain": [
       "<matplotlib.axes._subplots.AxesSubplot at 0x1c3deecf60>"
      ]
     },
     "execution_count": 179,
     "metadata": {},
     "output_type": "execute_result"
    },
    {
     "data": {
      "image/png": "[encoded data removed]",
      "text/plain": [
       "<Figure size 432x288 with 1 Axes>"
      ]
     },
     "metadata": {
      "needs_background": "light"
     },
     "output_type": "display_data"
    }
   ],
   "source": [
    "interim['age'].plot.hist()"
   ]
  },
  {
   "cell_type": "markdown",
   "metadata": {},
   "source": [
    "**Distance**<br>\n",
    "The data is pretty skewed. A more accurate might be to use trip duration to impute missing distance. (Most correlated in the set of original data)\n",
    "\n",
    "However, since the missing distance data percentage is so low, we can remove the missing values."
   ]
  },
  {
   "cell_type": "code",
   "execution_count": 182,
   "metadata": {},
   "outputs": [
    {
     "data": {
      "text/plain": [
       "<matplotlib.axes._subplots.AxesSubplot at 0x1c3e25e128>"
      ]
     },
     "execution_count": 182,
     "metadata": {},
     "output_type": "execute_result"
    },
    {
     "data": {
      "image/png": "[encoded data removed]",
      "text/plain": [
       "<Figure size 432x288 with 1 Axes>"
      ]
     },
     "metadata": {
      "needs_background": "light"
     },
     "output_type": "display_data"
    }
   ],
   "source": [
    "new.distance.plot.hist()"
   ]
  },
  {
   "cell_type": "code",
   "execution_count": 184,
   "metadata": {},
   "outputs": [
    {
     "data": {
      "text/plain": [
       "trip_id                  -0.006946\n",
       "bikeid                    0.023251\n",
       "tripduration              0.361705\n",
       "from_station_id           0.048974\n",
       "to_station_id             0.061514\n",
       "birthyear                 0.035826\n",
       "age                      -0.035826\n",
       "from_station_latitude     0.078172\n",
       "from_station_longitude   -0.018666\n",
       "to_station_latitude       0.106317\n",
       "to_station_longitude     -0.031955\n",
       "distance                  1.000000\n",
       "duration                  0.361618\n",
       "speed                     0.530464\n",
       "Name: distance, dtype: float64"
      ]
     },
     "execution_count": 184,
     "metadata": {},
     "output_type": "execute_result"
    }
   ],
   "source": [
    "# duration is most related to distance\n",
    "new.corr().loc['distance', :]"
   ]
  },
  {
   "cell_type": "code",
   "execution_count": 198,
   "metadata": {},
   "outputs": [],
   "source": [
    "# duration median to distance dictionary\n",
    "dur_to_dist = interim.groupby(\"duration\").distance.median().to_dict()"
   ]
  },
  {
   "cell_type": "code",
   "execution_count": 35,
   "metadata": {},
   "outputs": [],
   "source": [
    "# impute distance based on duration of the trip\n",
    "interim['new_dist']  = interim.apply(lambda x: dur_to_dist[x['duration']] if math.isnan(x['distance']) else x['distance'], axis = 1)"
   ]
  },
  {
   "cell_type": "code",
   "execution_count": 185,
   "metadata": {},
   "outputs": [],
   "source": [
    "# just remove missing values\n",
    "interim = interim[~interim.distance.isnull()]"
   ]
  },
  {
   "cell_type": "markdown",
   "metadata": {},
   "source": [
    "**Finalized list of features (before feature engineering)**<br>\n",
    "Speed is not included because it's a calcualted field. It will be correlated with the features that generated it."
   ]
  },
  {
   "cell_type": "code",
   "execution_count": 189,
   "metadata": {},
   "outputs": [
    {
     "data": {
      "text/plain": [
       "bikeid             0\n",
       "from_station_id    0\n",
       "to_station_id      0\n",
       "dum_Customer       0\n",
       "dum_Subscriber     0\n",
       "dum_Female         0\n",
       "dum_Male           0\n",
       "age                0\n",
       "dtype: int64"
      ]
     },
     "execution_count": 189,
     "metadata": {},
     "output_type": "execute_result"
    }
   ],
   "source": [
    "interim[['bikeid',\n",
    "       'from_station_id', 'to_station_id',\n",
    "       'dum_Customer', 'dum_Subscriber',\n",
    "       'dum_Female', 'dum_Male',  'age']].isnull().sum()"
   ]
  },
  {
   "cell_type": "markdown",
   "metadata": {},
   "source": [
    "**b.What assumptions did you make as you cleaned your data:**"
   ]
  },
  {
   "cell_type": "markdown",
   "metadata": {},
   "source": [
    "1. Distance and duration are somewhat related (23%), and thus can be used to fill in the gaps <br>\n",
    "2. Age is more than 20% missing, and yet we are still using them as features, assuming that majority of the values are somewhat close to its median.<br>\n",
    "3. Gender is more than 20% missing, and yet we are still using them as features, assuming that it will prove to be an important feature.\n",
    "4. Skewed data is represented of the overall population and the model will be able to deal with skewness."
   ]
  },
  {
   "cell_type": "markdown",
   "metadata": {},
   "source": [
    "## 3.1 Data Exploration"
   ]
  },
  {
   "cell_type": "code",
   "execution_count": 190,
   "metadata": {},
   "outputs": [
    {
     "data": {
      "text/plain": [
       "(2988002, 24)"
      ]
     },
     "execution_count": 190,
     "metadata": {},
     "output_type": "execute_result"
    }
   ],
   "source": [
    "interim.shape"
   ]
  },
  {
   "cell_type": "code",
   "execution_count": 191,
   "metadata": {},
   "outputs": [
    {
     "data": {
      "image/png": "[encoded data removed]",
      "text/plain": [
       "<Figure size 720x720 with 32 Axes>"
      ]
     },
     "metadata": {
      "needs_background": "light"
     },
     "output_type": "display_data"
    }
   ],
   "source": [
    "interim.hist(figsize = (10,10), layout = (8,4))\n",
    "plt.tight_layout()\n",
    "#plt.savefig(\"../output/features.png\")"
   ]
  },
  {
   "cell_type": "markdown",
   "metadata": {},
   "source": [
    "## 3.2 Feature Engineering"
   ]
  },
  {
   "cell_type": "markdown",
   "metadata": {},
   "source": [
    "**Time related information**"
   ]
  },
  {
   "cell_type": "code",
   "execution_count": 192,
   "metadata": {},
   "outputs": [],
   "source": [
    "interim['month'] = interim.start_time.apply(lambda x: x.month)"
   ]
  },
  {
   "cell_type": "code",
   "execution_count": 193,
   "metadata": {},
   "outputs": [],
   "source": [
    "interim['start_hour'] = interim.start_time.apply(lambda x: x.hour)"
   ]
  },
  {
   "cell_type": "markdown",
   "metadata": {},
   "source": [
    "**Checking Duration**"
   ]
  },
  {
   "cell_type": "code",
   "execution_count": 194,
   "metadata": {},
   "outputs": [
    {
     "data": {
      "text/plain": [
       "<matplotlib.axes._subplots.AxesSubplot at 0x1c3ea95438>"
      ]
     },
     "execution_count": 194,
     "metadata": {},
     "output_type": "execute_result"
    },
    {
     "data": {
      "image/png": "[encoded data removed]",
      "text/plain": [
       "<Figure size 432x288 with 1 Axes>"
      ]
     },
     "metadata": {
      "needs_background": "light"
     },
     "output_type": "display_data"
    }
   ],
   "source": [
    "interim.duration.plot.box()"
   ]
  },
  {
   "cell_type": "code",
   "execution_count": 196,
   "metadata": {},
   "outputs": [
    {
     "data": {
      "text/html": [
       "<div>\n",
       "<style scoped>\n",
       "    .dataframe tbody tr th:only-of-type {\n",
       "        vertical-align: middle;\n",
       "    }\n",
       "\n",
       "    .dataframe tbody tr th {\n",
       "        vertical-align: top;\n",
       "    }\n",
       "\n",
       "    .dataframe thead th {\n",
       "        text-align: right;\n",
       "    }\n",
       "</style>\n",
       "<table border=\"1\" class=\"dataframe\">\n",
       "  <thead>\n",
       "    <tr style=\"text-align: right;\">\n",
       "      <th></th>\n",
       "      <th>tripduration</th>\n",
       "      <th>duration</th>\n",
       "      <th>start_time</th>\n",
       "      <th>end_time</th>\n",
       "      <th>from_station_name</th>\n",
       "      <th>to_station_name</th>\n",
       "      <th>distance</th>\n",
       "    </tr>\n",
       "  </thead>\n",
       "  <tbody>\n",
       "    <tr>\n",
       "      <th>2672341</th>\n",
       "      <td>831</td>\n",
       "      <td>-46.0</td>\n",
       "      <td>2017-11-05 01:59:00</td>\n",
       "      <td>2017-11-05 01:13:00</td>\n",
       "      <td>Sheffield Ave &amp; Webster Ave</td>\n",
       "      <td>Broadway &amp; Barry Ave</td>\n",
       "      <td>66.546296</td>\n",
       "    </tr>\n",
       "    <tr>\n",
       "      <th>2672342</th>\n",
       "      <td>887</td>\n",
       "      <td>-45.0</td>\n",
       "      <td>2017-11-05 01:58:00</td>\n",
       "      <td>2017-11-05 01:13:00</td>\n",
       "      <td>Morgan St &amp; Lake St</td>\n",
       "      <td>Michigan Ave &amp; Lake St</td>\n",
       "      <td>56.073177</td>\n",
       "    </tr>\n",
       "    <tr>\n",
       "      <th>2672343</th>\n",
       "      <td>479</td>\n",
       "      <td>-52.0</td>\n",
       "      <td>2017-11-05 01:56:00</td>\n",
       "      <td>2017-11-05 01:04:00</td>\n",
       "      <td>Broadway &amp; Argyle St</td>\n",
       "      <td>Sheridan Rd &amp; Montrose Ave</td>\n",
       "      <td>48.857838</td>\n",
       "    </tr>\n",
       "    <tr>\n",
       "      <th>2672344</th>\n",
       "      <td>932</td>\n",
       "      <td>-44.0</td>\n",
       "      <td>2017-11-05 01:51:00</td>\n",
       "      <td>2017-11-05 01:07:00</td>\n",
       "      <td>Halsted St &amp; Wrightwood Ave</td>\n",
       "      <td>Wood St &amp; Milwaukee Ave</td>\n",
       "      <td>95.816518</td>\n",
       "    </tr>\n",
       "    <tr>\n",
       "      <th>2672345</th>\n",
       "      <td>1028</td>\n",
       "      <td>-43.0</td>\n",
       "      <td>2017-11-05 01:47:00</td>\n",
       "      <td>2017-11-05 01:04:00</td>\n",
       "      <td>Ashland Ave &amp; Division St</td>\n",
       "      <td>Racine Ave &amp; 15th St</td>\n",
       "      <td>168.558121</td>\n",
       "    </tr>\n",
       "    <tr>\n",
       "      <th>2672357</th>\n",
       "      <td>2158</td>\n",
       "      <td>-24.0</td>\n",
       "      <td>2017-11-05 01:29:00</td>\n",
       "      <td>2017-11-05 01:05:00</td>\n",
       "      <td>Larrabee St &amp; Webster Ave</td>\n",
       "      <td>Lake Shore Dr &amp; Monroe St</td>\n",
       "      <td>170.302042</td>\n",
       "    </tr>\n",
       "    <tr>\n",
       "      <th>2672363</th>\n",
       "      <td>2385</td>\n",
       "      <td>-20.0</td>\n",
       "      <td>2017-11-05 01:24:00</td>\n",
       "      <td>2017-11-05 01:04:00</td>\n",
       "      <td>Larrabee St &amp; Webster Ave</td>\n",
       "      <td>Lake Shore Dr &amp; Monroe St</td>\n",
       "      <td>170.302042</td>\n",
       "    </tr>\n",
       "  </tbody>\n",
       "</table>\n",
       "</div>"
      ],
      "text/plain": [
       "         tripduration  duration          start_time            end_time  \\\n",
       "2672341           831     -46.0 2017-11-05 01:59:00 2017-11-05 01:13:00   \n",
       "2672342           887     -45.0 2017-11-05 01:58:00 2017-11-05 01:13:00   \n",
       "2672343           479     -52.0 2017-11-05 01:56:00 2017-11-05 01:04:00   \n",
       "2672344           932     -44.0 2017-11-05 01:51:00 2017-11-05 01:07:00   \n",
       "2672345          1028     -43.0 2017-11-05 01:47:00 2017-11-05 01:04:00   \n",
       "2672357          2158     -24.0 2017-11-05 01:29:00 2017-11-05 01:05:00   \n",
       "2672363          2385     -20.0 2017-11-05 01:24:00 2017-11-05 01:04:00   \n",
       "\n",
       "                   from_station_name             to_station_name    distance  \n",
       "2672341  Sheffield Ave & Webster Ave        Broadway & Barry Ave   66.546296  \n",
       "2672342          Morgan St & Lake St      Michigan Ave & Lake St   56.073177  \n",
       "2672343         Broadway & Argyle St  Sheridan Rd & Montrose Ave   48.857838  \n",
       "2672344  Halsted St & Wrightwood Ave     Wood St & Milwaukee Ave   95.816518  \n",
       "2672345    Ashland Ave & Division St        Racine Ave & 15th St  168.558121  \n",
       "2672357    Larrabee St & Webster Ave   Lake Shore Dr & Monroe St  170.302042  \n",
       "2672363    Larrabee St & Webster Ave   Lake Shore Dr & Monroe St  170.302042  "
      ]
     },
     "execution_count": 196,
     "metadata": {},
     "output_type": "execute_result"
    }
   ],
   "source": [
    "# there should not be negative durations\n",
    "interim[interim.duration < 0][['tripduration', 'duration', 'start_time', 'end_time', \n",
    "                                  'from_station_name', 'to_station_name', 'distance']]"
   ]
  },
  {
   "cell_type": "code",
   "execution_count": 199,
   "metadata": {},
   "outputs": [],
   "source": [
    "# reverse duration:distance dictionary\n",
    "dist_to_dur = {v: k for k, v in dur_to_dist.items()}"
   ]
  },
  {
   "cell_type": "code",
   "execution_count": 200,
   "metadata": {},
   "outputs": [],
   "source": [
    "# impute distance based on duration of the trip\n",
    "interim['duration']  = interim.apply(lambda x: dist_to_dur[x['distance']] if x['duration'] < 0 else x['duration'], axis = 1)"
   ]
  },
  {
   "cell_type": "code",
   "execution_count": 202,
   "metadata": {
    "scrolled": true
   },
   "outputs": [
    {
     "data": {
      "text/html": [
       "<div>\n",
       "<style scoped>\n",
       "    .dataframe tbody tr th:only-of-type {\n",
       "        vertical-align: middle;\n",
       "    }\n",
       "\n",
       "    .dataframe tbody tr th {\n",
       "        vertical-align: top;\n",
       "    }\n",
       "\n",
       "    .dataframe thead th {\n",
       "        text-align: right;\n",
       "    }\n",
       "</style>\n",
       "<table border=\"1\" class=\"dataframe\">\n",
       "  <thead>\n",
       "    <tr style=\"text-align: right;\">\n",
       "      <th></th>\n",
       "      <th>tripduration</th>\n",
       "      <th>duration</th>\n",
       "      <th>start_time</th>\n",
       "      <th>end_time</th>\n",
       "      <th>from_station_name</th>\n",
       "      <th>to_station_name</th>\n",
       "      <th>distance</th>\n",
       "    </tr>\n",
       "  </thead>\n",
       "  <tbody>\n",
       "  </tbody>\n",
       "</table>\n",
       "</div>"
      ],
      "text/plain": [
       "Empty DataFrame\n",
       "Columns: [tripduration, duration, start_time, end_time, from_station_name, to_station_name, distance]\n",
       "Index: []"
      ]
     },
     "execution_count": 202,
     "metadata": {},
     "output_type": "execute_result"
    }
   ],
   "source": [
    "# doesn't seem to be any ride that's over a day so everything else seems reasonable\n",
    "interim[interim.duration > 24*60][['tripduration', 'duration', 'start_time', 'end_time', \n",
    "                                  'from_station_name', 'to_station_name', 'distance']]"
   ]
  },
  {
   "cell_type": "code",
   "execution_count": 203,
   "metadata": {},
   "outputs": [
    {
     "data": {
      "text/plain": [
       "count    2.988002e+06\n",
       "mean     1.172911e+01\n",
       "std      1.588218e+01\n",
       "min     -5.200000e+01\n",
       "25%      6.000000e+00\n",
       "50%      9.550000e+00\n",
       "75%      1.505000e+01\n",
       "max      1.434933e+03\n",
       "Name: duration, dtype: float64"
      ]
     },
     "execution_count": 203,
     "metadata": {},
     "output_type": "execute_result"
    }
   ],
   "source": [
    "interim.duration.describe()"
   ]
  },
  {
   "cell_type": "code",
   "execution_count": 204,
   "metadata": {},
   "outputs": [
    {
     "data": {
      "text/plain": [
       "<matplotlib.axes._subplots.AxesSubplot at 0x1c3e9424a8>"
      ]
     },
     "execution_count": 204,
     "metadata": {},
     "output_type": "execute_result"
    },
    {
     "data": {
      "image/png": "[encoded data removed]",
      "text/plain": [
       "<Figure size 432x288 with 1 Axes>"
      ]
     },
     "metadata": {
      "needs_background": "light"
     },
     "output_type": "display_data"
    }
   ],
   "source": [
    "interim.duration.plot.box()"
   ]
  },
  {
   "cell_type": "markdown",
   "metadata": {},
   "source": [
    "**Binning categorical variables into scalars using its popularity (usage/frequency)**"
   ]
  },
  {
   "cell_type": "code",
   "execution_count": 205,
   "metadata": {},
   "outputs": [],
   "source": [
    "def fromPopularity(x):\n",
    "    \"\"\"8 levels of popularity, the higher the more popular\n",
    "    input: column name\n",
    "    ouput: level of popularity\n",
    "    \"\"\"\n",
    "    if _counts[x] == _freq['min']:\n",
    "        return 0\n",
    "    elif _counts[x] < _freq['25%']:\n",
    "        return 1\n",
    "    elif _counts[x] == _freq['25%']:\n",
    "        return 2\n",
    "    elif _counts[x] < _freq['50%']:\n",
    "        return 3\n",
    "    elif _counts[x] == _freq['50%']:\n",
    "        return 4\n",
    "    elif _counts[x] < _freq['75%']:\n",
    "        return 5\n",
    "    elif _counts[x] == _freq['75%']:\n",
    "        return 6\n",
    "    elif _counts[x] < _freq['max']:\n",
    "        return 7\n",
    "    else:\n",
    "        return 8"
   ]
  },
  {
   "cell_type": "code",
   "execution_count": 206,
   "metadata": {},
   "outputs": [],
   "source": [
    "_counts = 0\n",
    "_freq = 0\n",
    "def createPopularity(col):\n",
    "    global _counts\n",
    "    global _freq\n",
    "    _counts = interim[col].value_counts()\n",
    "    _freq = _counts.describe()\n",
    "        #data = [[( interim[col])] ,[_counts] * interim.shape[0], [_freq] * interim.shape[0]]\n",
    "        #data = [[(interim[col])], _counts, _freq]\n",
    "    with Pool(mp.cpu_count() - 1) as pool:\n",
    "        interim[col.replace(\"_station_id\", \"\")+'_popularity'] = pool.map(fromPopularity, interim[col])\n",
    "        pool.terminate()"
   ]
  },
  {
   "cell_type": "markdown",
   "metadata": {},
   "source": [
    "- Most popular bikes"
   ]
  },
  {
   "cell_type": "code",
   "execution_count": 207,
   "metadata": {},
   "outputs": [
    {
     "name": "stdout",
     "output_type": "stream",
     "text": [
      "CPU times: user 1.25 s, sys: 431 ms, total: 1.68 s\n",
      "Wall time: 2min 47s\n"
     ]
    }
   ],
   "source": [
    "%%time\n",
    "createPopularity(\"bikeid\")"
   ]
  },
  {
   "cell_type": "markdown",
   "metadata": {},
   "source": [
    "- Most popular start stations"
   ]
  },
  {
   "cell_type": "code",
   "execution_count": 208,
   "metadata": {
    "scrolled": true
   },
   "outputs": [
    {
     "name": "stdout",
     "output_type": "stream",
     "text": [
      "CPU times: user 1.29 s, sys: 364 ms, total: 1.65 s\n",
      "Wall time: 3min 36s\n"
     ]
    }
   ],
   "source": [
    "%%time\n",
    "createPopularity(\"to_station_id\")"
   ]
  },
  {
   "cell_type": "markdown",
   "metadata": {},
   "source": [
    "- Most popular destination stations"
   ]
  },
  {
   "cell_type": "code",
   "execution_count": 209,
   "metadata": {},
   "outputs": [
    {
     "name": "stdout",
     "output_type": "stream",
     "text": [
      "CPU times: user 1.23 s, sys: 279 ms, total: 1.51 s\n",
      "Wall time: 3min 18s\n"
     ]
    }
   ],
   "source": [
    "%%time\n",
    "createPopularity('from_station_id')"
   ]
  },
  {
   "cell_type": "markdown",
   "metadata": {},
   "source": [
    "- Most popular hour (traffic)"
   ]
  },
  {
   "cell_type": "code",
   "execution_count": 210,
   "metadata": {},
   "outputs": [
    {
     "name": "stdout",
     "output_type": "stream",
     "text": [
      "CPU times: user 1.12 s, sys: 214 ms, total: 1.34 s\n",
      "Wall time: 2min 47s\n"
     ]
    }
   ],
   "source": [
    "%%time\n",
    "createPopularity('start_hour')"
   ]
  },
  {
   "cell_type": "markdown",
   "metadata": {},
   "source": [
    "- Most popular month (?)"
   ]
  },
  {
   "cell_type": "code",
   "execution_count": 211,
   "metadata": {},
   "outputs": [
    {
     "name": "stdout",
     "output_type": "stream",
     "text": [
      "CPU times: user 1.13 s, sys: 269 ms, total: 1.4 s\n",
      "Wall time: 2min 58s\n"
     ]
    }
   ],
   "source": [
    "%%time\n",
    "createPopularity('month')"
   ]
  },
  {
   "cell_type": "markdown",
   "metadata": {},
   "source": [
    "- Check for multicollinearily"
   ]
  },
  {
   "cell_type": "markdown",
   "metadata": {},
   "source": [
    "**Finalized list of features**"
   ]
  },
  {
   "cell_type": "code",
   "execution_count": 299,
   "metadata": {},
   "outputs": [],
   "source": [
    "# dropped base level for dummies\n",
    "features = ['distance', 'age', \n",
    "       'dum_Male',\n",
    "       'dum_Subscriber',\n",
    "       'from_popularity', 'bikeid_popularity', 'to_popularity','start_hour_popularity', 'month_popularity']"
   ]
  },
  {
   "cell_type": "code",
   "execution_count": 300,
   "metadata": {},
   "outputs": [
    {
     "data": {
      "text/plain": [
       "distance                 0\n",
       "age                      0\n",
       "dum_Male                 0\n",
       "dum_Subscriber           0\n",
       "from_popularity          0\n",
       "bikeid_popularity        0\n",
       "to_popularity            0\n",
       "start_hour_popularity    0\n",
       "month_popularity         0\n",
       "dtype: int64"
      ]
     },
     "execution_count": 300,
     "metadata": {},
     "output_type": "execute_result"
    }
   ],
   "source": [
    "interim[features].isnull().sum()"
   ]
  },
  {
   "cell_type": "markdown",
   "metadata": {},
   "source": [
    "label = 'duration'"
   ]
  },
  {
   "cell_type": "markdown",
   "metadata": {},
   "source": [
    "# 4. Modeling\n",
    "He would like Divvy Bike to add a new feature to their kiosks: “Enter a destination and we’ll tell you how long the trip will take”.\n",
    "\n",
    "We need you to build a model that can predict how long a trip will take given a starting point and destination. You will need to get creative about the factors that will predict travel time. (Optional: find and use additional datasets that may have an impact on travel time, like weather and traffic)."
   ]
  },
  {
   "cell_type": "markdown",
   "metadata": {},
   "source": [
    "## Regression Models"
   ]
  },
  {
   "cell_type": "code",
   "execution_count": 306,
   "metadata": {},
   "outputs": [],
   "source": [
    "def train_test_wstd(data, std = False, features = features):\n",
    "    \"\"\"Train, test split with standardization option\"\"\"\n",
    "    # without base levels of categories\n",
    "    X = data[features].reset_index(drop=True)\n",
    "    Y = data['duration'].reset_index(drop=True)\n",
    "    X_train, X_test, y_train, y_test = train_test_split(X, Y, random_state=0)\n",
    "    if std:\n",
    "        X_train_std, X_test_std = standardize(X_train, X_test)\n",
    "    return X_train, X_test, X_train_std, X_test_std, y_train, y_test"
   ]
  },
  {
   "cell_type": "code",
   "execution_count": 219,
   "metadata": {},
   "outputs": [],
   "source": [
    "def standardize(X_train, X_test):\n",
    "    scl = StandardScaler(copy=True, with_mean=True, with_std=True)\n",
    "    scale = scl.fit(X_train)\n",
    "    data_std = scale.transform(X_train)\n",
    "    test_std = scale.transform(X_test)\n",
    "    return data_std, test_std"
   ]
  },
  {
   "cell_type": "markdown",
   "metadata": {},
   "source": [
    "### Train Test Split with standardization"
   ]
  },
  {
   "cell_type": "code",
   "execution_count": 307,
   "metadata": {},
   "outputs": [
    {
     "name": "stderr",
     "output_type": "stream",
     "text": [
      "/Users/ez/anaconda3/lib/python3.7/site-packages/sklearn/preprocessing/data.py:645: DataConversionWarning: Data with input dtype uint8, int64, float64 were all converted to float64 by StandardScaler.\n",
      "  return self.partial_fit(X, y)\n",
      "/Users/ez/anaconda3/lib/python3.7/site-packages/ipykernel_launcher.py:4: DataConversionWarning: Data with input dtype uint8, int64, float64 were all converted to float64 by StandardScaler.\n",
      "  after removing the cwd from sys.path.\n",
      "/Users/ez/anaconda3/lib/python3.7/site-packages/ipykernel_launcher.py:5: DataConversionWarning: Data with input dtype uint8, int64, float64 were all converted to float64 by StandardScaler.\n",
      "  \"\"\"\n"
     ]
    }
   ],
   "source": [
    "X_train, X_test, X_train_std, X_test_std, y_train, y_test = train_test_wstd(interim, std = True)"
   ]
  },
  {
   "cell_type": "markdown",
   "metadata": {},
   "source": [
    "### Linear Regression Model (baseline)"
   ]
  },
  {
   "cell_type": "code",
   "execution_count": 308,
   "metadata": {},
   "outputs": [
    {
     "name": "stdout",
     "output_type": "stream",
     "text": [
      "                            OLS Regression Results                            \n",
      "==============================================================================\n",
      "Dep. Variable:               duration   R-squared:                       0.134\n",
      "Model:                            OLS   Adj. R-squared:                  0.134\n",
      "Method:                 Least Squares   F-statistic:                 3.848e+04\n",
      "Date:                Tue, 09 Jul 2019   Prob (F-statistic):               0.00\n",
      "Time:                        14:59:59   Log-Likelihood:            -9.2114e+06\n",
      "No. Observations:             2241001   AIC:                         1.842e+07\n",
      "Df Residuals:                 2240991   BIC:                         1.842e+07\n",
      "Df Model:                           9                                         \n",
      "Covariance Type:            nonrobust                                         \n",
      "==============================================================================\n",
      "                 coef    std err          t      P>|t|      [0.025      0.975]\n",
      "------------------------------------------------------------------------------\n",
      "const         11.7262      0.010   1189.845      0.000      11.707      11.745\n",
      "x1             5.6969      0.010    574.578      0.000       5.677       5.716\n",
      "x2             0.3194      0.010     32.197      0.000       0.300       0.339\n",
      "x3            -0.5415      0.010    -54.629      0.000      -0.561      -0.522\n",
      "x4            -0.0956      0.010     -9.699      0.000      -0.115      -0.076\n",
      "x5            -0.0731      0.011     -6.734      0.000      -0.094      -0.052\n",
      "x6            -0.0308      0.010     -3.120      0.002      -0.050      -0.011\n",
      "x7            -0.2766      0.011    -25.519      0.000      -0.298      -0.255\n",
      "x8            -0.0219      0.010     -2.217      0.027      -0.041      -0.003\n",
      "x9             0.3330      0.010     33.476      0.000       0.313       0.352\n",
      "==============================================================================\n",
      "Omnibus:                  7278490.774   Durbin-Watson:                   2.000\n",
      "Prob(Omnibus):                  0.000   Jarque-Bera (JB):    1409084823416.682\n",
      "Skew:                          54.995   Prob(JB):                         0.00\n",
      "Kurtosis:                    3886.104   Cond. No.                         1.58\n",
      "==============================================================================\n",
      "\n",
      "Warnings:\n",
      "[1] Standard Errors assume that the covariance matrix of the errors is correctly specified.\n"
     ]
    }
   ],
   "source": [
    "X2 = sm.add_constant(X_train_std)\n",
    "est = sm.OLS(y_train, X2)\n",
    "est2 = est.fit()\n",
    "print(est2.summary())"
   ]
  },
  {
   "cell_type": "code",
   "execution_count": 311,
   "metadata": {},
   "outputs": [
    {
     "data": {
      "text/plain": [
       "0.1309287019751887"
      ]
     },
     "execution_count": 311,
     "metadata": {},
     "output_type": "execute_result"
    }
   ],
   "source": [
    "lr = LinearRegression()\n",
    "lr1 = LinearRegression.fit(lr, X = X_train_std, y = y_train)\n",
    "# Score of the linear model\n",
    "lr1.score(X = X_test_std, y = y_test)"
   ]
  },
  {
   "cell_type": "code",
   "execution_count": 312,
   "metadata": {},
   "outputs": [
    {
     "name": "stdout",
     "output_type": "stream",
     "text": [
      "MSE on training set: 217.6562857426769\n",
      "MSE on test set: 221.69444761488418\n"
     ]
    }
   ],
   "source": [
    "# MSE\n",
    "print(\"MSE on training set: {}\".format(sum((lr1.predict(X = X_train_std) - y_train)**2)/len(y_train)))\n",
    "print(\"MSE on test set: {}\".format(sum((lr1.predict(X = X_test_std) - y_test)**2)/len(y_test)))"
   ]
  },
  {
   "cell_type": "markdown",
   "metadata": {},
   "source": [
    "### GBT Model"
   ]
  },
  {
   "cell_type": "code",
   "execution_count": 313,
   "metadata": {},
   "outputs": [
    {
     "data": {
      "text/plain": [
       "GradientBoostingRegressor(alpha=0.9, criterion='friedman_mse', init=None,\n",
       "             learning_rate=0.1, loss='ls', max_depth=3, max_features=None,\n",
       "             max_leaf_nodes=None, min_impurity_decrease=0.0,\n",
       "             min_impurity_split=None, min_samples_leaf=1,\n",
       "             min_samples_split=2, min_weight_fraction_leaf=0.0,\n",
       "             n_estimators=100, n_iter_no_change=None, presort='auto',\n",
       "             random_state=0, subsample=1.0, tol=0.0001,\n",
       "             validation_fraction=0.1, verbose=0, warm_start=False)"
      ]
     },
     "execution_count": 313,
     "metadata": {},
     "output_type": "execute_result"
    }
   ],
   "source": [
    "gbrt = GradientBoostingRegressor(random_state=0)\n",
    "gbrt.fit(X_train, y_train)"
   ]
  },
  {
   "cell_type": "code",
   "execution_count": 314,
   "metadata": {},
   "outputs": [
    {
     "name": "stdout",
     "output_type": "stream",
     "text": [
      "accuracy on training set: 0.152587\n",
      "accuracy on test set: 0.145783\n"
     ]
    }
   ],
   "source": [
    "print(\"accuracy on training set: %f\" % gbrt.score(X_train, y_train))\n",
    "print(\"accuracy on test set: %f\" % gbrt.score(X_test, y_test))"
   ]
  },
  {
   "cell_type": "code",
   "execution_count": 315,
   "metadata": {},
   "outputs": [
    {
     "name": "stdout",
     "output_type": "stream",
     "text": [
      "MSE on training set: 212.949539525987\n",
      "MSE on test set: 217.9051263137011\n"
     ]
    }
   ],
   "source": [
    "print(\"MSE on training set: {}\".format(sum((gbrt.predict(X_train) - y_train)**2)/len(y_train)))\n",
    "print(\"MSE on test set: {}\".format(sum((gbrt.predict(X_test) - y_test)**2)/len(y_test)))"
   ]
  },
  {
   "cell_type": "code",
   "execution_count": 316,
   "metadata": {
    "scrolled": true
   },
   "outputs": [
    {
     "data": {
      "text/plain": [
       "([<matplotlib.axis.YTick at 0x1c6862f5c0>,\n",
       "  <matplotlib.axis.YTick at 0x1c6862fef0>,\n",
       "  <matplotlib.axis.YTick at 0x1c679b9518>,\n",
       "  <matplotlib.axis.YTick at 0x1c679d16d8>,\n",
       "  <matplotlib.axis.YTick at 0x1c679d1358>,\n",
       "  <matplotlib.axis.YTick at 0x1c679b40b8>,\n",
       "  <matplotlib.axis.YTick at 0x1c679b69e8>,\n",
       "  <matplotlib.axis.YTick at 0x1c6866f6d8>,\n",
       "  <matplotlib.axis.YTick at 0x1c6864b400>],\n",
       " <a list of 9 Text yticklabel objects>)"
      ]
     },
     "execution_count": 316,
     "metadata": {},
     "output_type": "execute_result"
    },
    {
     "data": {
      "image/png": "[encoded data removed]",
      "text/plain": [
       "<Figure size 432x288 with 1 Axes>"
      ]
     },
     "metadata": {
      "needs_background": "light"
     },
     "output_type": "display_data"
    }
   ],
   "source": [
    "plt.barh(range(len(features)),sorted(gbrt.feature_importances_))\n",
    "plt.yticks(range(len(features)), tuple(X_test.columns[np.argsort(gbrt.feature_importances_)]))"
   ]
  },
  {
   "cell_type": "code",
   "execution_count": 317,
   "metadata": {
    "scrolled": true
   },
   "outputs": [
    {
     "data": {
      "text/plain": [
       "<Figure size 720x720 with 0 Axes>"
      ]
     },
     "metadata": {},
     "output_type": "display_data"
    },
    {
     "data": {
      "image/png": "[encoded data removed]",
      "text/plain": [
       "<Figure size 432x288 with 7 Axes>"
      ]
     },
     "metadata": {
      "needs_background": "light"
     },
     "output_type": "display_data"
    }
   ],
   "source": [
    "plt.figure(figsize=(10,10))\n",
    "fig, axs = plot_partial_dependence(gbrt, X_train, np.argsort(gbrt.feature_importances_)[-7:],\n",
    "                                       feature_names=X_train.columns,\n",
    "                                       n_jobs=4, grid_resolution=80)\n",
    "plt.tight_layout()"
   ]
  },
  {
   "cell_type": "markdown",
   "metadata": {},
   "source": [
    "# Understanding Important Variables"
   ]
  },
  {
   "cell_type": "code",
   "execution_count": 229,
   "metadata": {},
   "outputs": [
    {
     "data": {
      "text/plain": [
       "array([<matplotlib.axes._subplots.AxesSubplot object at 0x1c44e347b8>,\n",
       "       <matplotlib.axes._subplots.AxesSubplot object at 0x1c44f57be0>],\n",
       "      dtype=object)"
      ]
     },
     "execution_count": 229,
     "metadata": {},
     "output_type": "execute_result"
    },
    {
     "data": {
      "image/png": "[encoded data removed]",
      "text/plain": [
       "<Figure size 432x288 with 2 Axes>"
      ]
     },
     "metadata": {
      "needs_background": "light"
     },
     "output_type": "display_data"
    }
   ],
   "source": [
    "interim.distance.hist(by=interim.dum_Male)"
   ]
  },
  {
   "cell_type": "markdown",
   "metadata": {},
   "source": [
    "# 6. Bring in external data"
   ]
  },
  {
   "cell_type": "code",
   "execution_count": 318,
   "metadata": {},
   "outputs": [],
   "source": [
    "weather = pd.read_csv(\"../data/external/Beach_Weather_Stations_-_Automated_Sensors_-_2017_-_Air_Temperature.csv\", \n",
    "                     parse_dates = ['Measurement Timestamp'])"
   ]
  },
  {
   "cell_type": "code",
   "execution_count": 231,
   "metadata": {},
   "outputs": [
    {
     "data": {
      "text/plain": [
       "(25154, 18)"
      ]
     },
     "execution_count": 231,
     "metadata": {},
     "output_type": "execute_result"
    }
   ],
   "source": [
    "weather.shape"
   ]
  },
  {
   "cell_type": "code",
   "execution_count": 232,
   "metadata": {},
   "outputs": [
    {
     "data": {
      "text/plain": [
       "<matplotlib.axes._subplots.AxesSubplot at 0x1c47098c18>"
      ]
     },
     "execution_count": 232,
     "metadata": {},
     "output_type": "execute_result"
    },
    {
     "data": {
      "image/png": "[encoded data removed]",
      "text/plain": [
       "<Figure size 432x288 with 1 Axes>"
      ]
     },
     "metadata": {
      "needs_background": "light"
     },
     "output_type": "display_data"
    }
   ],
   "source": [
    "# look into the data\n",
    "weather[weather['Station Name'] == '63rd Street Weather Station']['Air Temperature'].plot()"
   ]
  },
  {
   "cell_type": "code",
   "execution_count": 59,
   "metadata": {},
   "outputs": [
    {
     "data": {
      "text/plain": [
       "Index(['Station Name', 'Measurement Timestamp', 'Air Temperature',\n",
       "       'Wet Bulb Temperature', 'Humidity', 'Rain Intensity', 'Interval Rain',\n",
       "       'Total Rain', 'Precipitation Type', 'Wind Direction', 'Wind Speed',\n",
       "       'Maximum Wind Speed', 'Barometric Pressure', 'Solar Radiation',\n",
       "       'Heading', 'Battery Life', 'Measurement Timestamp Label',\n",
       "       'Measurement ID'],\n",
       "      dtype='object')"
      ]
     },
     "execution_count": 59,
     "metadata": {},
     "output_type": "execute_result"
    }
   ],
   "source": [
    "weather.columns"
   ]
  },
  {
   "cell_type": "code",
   "execution_count": 319,
   "metadata": {},
   "outputs": [],
   "source": [
    "weather_feature = ['Measurement Timestamp', 'Air Temperature',\n",
    "       'Humidity', 'Rain Intensity', 'Interval Rain',\n",
    "       'Total Rain', 'Precipitation Type', 'Wind Direction', 'Wind Speed',\n",
    "       'Maximum Wind Speed', 'Barometric Pressure', 'Solar Radiation']"
   ]
  },
  {
   "cell_type": "code",
   "execution_count": 320,
   "metadata": {},
   "outputs": [],
   "source": [
    "weather_cat = ['Precipitation Type', 'Wind Direction']"
   ]
  },
  {
   "cell_type": "code",
   "execution_count": 321,
   "metadata": {
    "scrolled": true
   },
   "outputs": [],
   "source": [
    "weather_max = weather.groupby(\"Measurement Timestamp\").agg(dict(zip(weather_cat, [max]*len(weather_cat)))).reset_index()"
   ]
  },
  {
   "cell_type": "code",
   "execution_count": 322,
   "metadata": {},
   "outputs": [],
   "source": [
    "weather_mean = weather[list(set(weather_feature) - set(weather_cat))].groupby(\"Measurement Timestamp\").mean().reset_index()"
   ]
  },
  {
   "cell_type": "code",
   "execution_count": 323,
   "metadata": {},
   "outputs": [],
   "source": [
    "weather_new = weather_max.merge(weather_mean, on=\"Measurement Timestamp\")"
   ]
  },
  {
   "cell_type": "code",
   "execution_count": 324,
   "metadata": {},
   "outputs": [
    {
     "data": {
      "text/plain": [
       "Measurement Timestamp    0\n",
       "Air Temperature          0\n",
       "Humidity                 0\n",
       "Rain Intensity           5\n",
       "Interval Rain            0\n",
       "Total Rain               5\n",
       "Precipitation Type       5\n",
       "Wind Direction           0\n",
       "Wind Speed               0\n",
       "Maximum Wind Speed       0\n",
       "Barometric Pressure      0\n",
       "Solar Radiation          0\n",
       "dtype: int64"
      ]
     },
     "execution_count": 324,
     "metadata": {},
     "output_type": "execute_result"
    }
   ],
   "source": [
    "weather_new[weather_feature].isnull().sum()"
   ]
  },
  {
   "cell_type": "code",
   "execution_count": 239,
   "metadata": {
    "scrolled": false
   },
   "outputs": [
    {
     "data": {
      "image/png": "[encoded data removed]",
      "text/plain": [
       "<Figure size 720x432 with 12 Axes>"
      ]
     },
     "metadata": {
      "needs_background": "light"
     },
     "output_type": "display_data"
    }
   ],
   "source": [
    "weather_new[weather_feature].hist(layout = (3, 4), figsize = (10, 6))\n",
    "plt.tight_layout()"
   ]
  },
  {
   "cell_type": "code",
   "execution_count": 162,
   "metadata": {},
   "outputs": [
    {
     "data": {
      "text/plain": [
       "<matplotlib.axes._subplots.AxesSubplot at 0x327054898>"
      ]
     },
     "execution_count": 162,
     "metadata": {},
     "output_type": "execute_result"
    },
    {
     "data": {
      "image/png": "[encoded data removed]",
      "text/plain": [
       "<Figure size 432x288 with 1 Axes>"
      ]
     },
     "metadata": {
      "needs_background": "light"
     },
     "output_type": "display_data"
    }
   ],
   "source": [
    "weather_new[weather_feature].drop('Measurement Timestamp', axis = 1).plot.box(rot= 90)"
   ]
  },
  {
   "cell_type": "code",
   "execution_count": 405,
   "metadata": {},
   "outputs": [
    {
     "data": {
      "text/plain": [
       "Index(['Measurement Timestamp', 'Precipitation Type', 'Wind Direction',\n",
       "       'Humidity', 'Maximum Wind Speed', 'Barometric Pressure',\n",
       "       'Air Temperature', 'Total Rain', 'Solar Radiation', 'Wind Speed',\n",
       "       'Rain Intensity', 'Interval Rain'],\n",
       "      dtype='object')"
      ]
     },
     "execution_count": 405,
     "metadata": {},
     "output_type": "execute_result"
    }
   ],
   "source": [
    "weather_new.columns"
   ]
  },
  {
   "cell_type": "code",
   "execution_count": 325,
   "metadata": {},
   "outputs": [],
   "source": [
    "# forward fill missing values\n",
    "weather_new = weather_new.ffill()"
   ]
  },
  {
   "cell_type": "code",
   "execution_count": 326,
   "metadata": {},
   "outputs": [],
   "source": [
    "w_feature = ['Air Temperature', 'Total Rain', 'Wind Speed']"
   ]
  },
  {
   "cell_type": "code",
   "execution_count": 327,
   "metadata": {
    "scrolled": true
   },
   "outputs": [],
   "source": [
    "# merge weather data with original data\n",
    "in_n_out = pd.merge_asof(interim[features + [\"start_time\", \"duration\"]].sort_values(\"start_time\"),\n",
    "                         weather_new[['Measurement Timestamp'] + w_feature]\\\n",
    "                         .sort_values('Measurement Timestamp'),\n",
    "                         left_on = \"start_time\", right_on = \"Measurement Timestamp\")\n",
    "                                                   #on = 'half_hour', how = \"left\")"
   ]
  },
  {
   "cell_type": "code",
   "execution_count": 328,
   "metadata": {
    "scrolled": true
   },
   "outputs": [
    {
     "data": {
      "text/plain": [
       "distance                 0\n",
       "age                      0\n",
       "dum_Male                 0\n",
       "dum_Subscriber           0\n",
       "from_popularity          0\n",
       "bikeid_popularity        0\n",
       "to_popularity            0\n",
       "start_hour_popularity    0\n",
       "month_popularity         0\n",
       "start_time               0\n",
       "duration                 0\n",
       "Measurement Timestamp    0\n",
       "Air Temperature          0\n",
       "Total Rain               0\n",
       "Wind Speed               0\n",
       "dtype: int64"
      ]
     },
     "execution_count": 328,
     "metadata": {},
     "output_type": "execute_result"
    }
   ],
   "source": [
    "in_n_out.isnull().sum()"
   ]
  },
  {
   "cell_type": "markdown",
   "metadata": {},
   "source": [
    "## Remodeling with external data"
   ]
  },
  {
   "cell_type": "markdown",
   "metadata": {},
   "source": [
    "### Train Test Split with standardization"
   ]
  },
  {
   "cell_type": "code",
   "execution_count": 329,
   "metadata": {},
   "outputs": [
    {
     "name": "stderr",
     "output_type": "stream",
     "text": [
      "/Users/ez/anaconda3/lib/python3.7/site-packages/sklearn/preprocessing/data.py:645: DataConversionWarning: Data with input dtype uint8, int64, float64 were all converted to float64 by StandardScaler.\n",
      "  return self.partial_fit(X, y)\n",
      "/Users/ez/anaconda3/lib/python3.7/site-packages/ipykernel_launcher.py:4: DataConversionWarning: Data with input dtype uint8, int64, float64 were all converted to float64 by StandardScaler.\n",
      "  after removing the cwd from sys.path.\n",
      "/Users/ez/anaconda3/lib/python3.7/site-packages/ipykernel_launcher.py:5: DataConversionWarning: Data with input dtype uint8, int64, float64 were all converted to float64 by StandardScaler.\n",
      "  \"\"\"\n"
     ]
    }
   ],
   "source": [
    "X_train2, X_test2, X_train_std2, X_test_std2, y_train2, y_test2 = train_test_wstd(in_n_out\\\n",
    "            .drop(['start_time','Measurement Timestamp'], axis = 1), std = True, features=features+w_feature)"
   ]
  },
  {
   "cell_type": "markdown",
   "metadata": {},
   "source": [
    "### Linear Regression Model (baseline)"
   ]
  },
  {
   "cell_type": "code",
   "execution_count": 330,
   "metadata": {},
   "outputs": [
    {
     "name": "stdout",
     "output_type": "stream",
     "text": [
      "                            OLS Regression Results                            \n",
      "==============================================================================\n",
      "Dep. Variable:               duration   R-squared:                       0.133\n",
      "Model:                            OLS   Adj. R-squared:                  0.133\n",
      "Method:                 Least Squares   F-statistic:                 2.871e+04\n",
      "Date:                Tue, 09 Jul 2019   Prob (F-statistic):               0.00\n",
      "Time:                        15:23:26   Log-Likelihood:            -9.2181e+06\n",
      "No. Observations:             2241001   AIC:                         1.844e+07\n",
      "Df Residuals:                 2240988   BIC:                         1.844e+07\n",
      "Df Model:                          12                                         \n",
      "Covariance Type:            nonrobust                                         \n",
      "==============================================================================\n",
      "                 coef    std err          t      P>|t|      [0.025      0.975]\n",
      "------------------------------------------------------------------------------\n",
      "const         11.7263      0.010   1186.313      0.000      11.707      11.746\n",
      "x1             5.6780      0.010    570.439      0.000       5.658       5.697\n",
      "x2             0.3309      0.010     33.224      0.000       0.311       0.350\n",
      "x3            -0.5303      0.010    -53.317      0.000      -0.550      -0.511\n",
      "x4            -0.0764      0.010     -7.733      0.000      -0.096      -0.057\n",
      "x5            -0.0827      0.011     -7.601      0.000      -0.104      -0.061\n",
      "x6            -0.0257      0.010     -2.590      0.010      -0.045      -0.006\n",
      "x7            -0.2396      0.011    -22.032      0.000      -0.261      -0.218\n",
      "x8            -0.0234      0.010     -2.352      0.019      -0.043      -0.004\n",
      "x9            -0.0421      0.016     -2.665      0.008      -0.073      -0.011\n",
      "x10            0.5577      0.016     34.914      0.000       0.526       0.589\n",
      "x11           -0.1301      0.011    -11.933      0.000      -0.152      -0.109\n",
      "x12            0.0257      0.010      2.469      0.014       0.005       0.046\n",
      "==============================================================================\n",
      "Omnibus:                  7286756.382   Durbin-Watson:                   2.001\n",
      "Prob(Omnibus):                  0.000   Jarque-Bera (JB):    1410728348084.868\n",
      "Skew:                          55.180   Prob(JB):                         0.00\n",
      "Kurtosis:                    3888.359   Cond. No.                         3.17\n",
      "==============================================================================\n",
      "\n",
      "Warnings:\n",
      "[1] Standard Errors assume that the covariance matrix of the errors is correctly specified.\n"
     ]
    }
   ],
   "source": [
    "X2 = sm.add_constant(X_train_std2)\n",
    "est = sm.OLS(y_train2, X2)\n",
    "est2 = est.fit()\n",
    "print(est2.summary())"
   ]
  },
  {
   "cell_type": "code",
   "execution_count": 331,
   "metadata": {},
   "outputs": [
    {
     "data": {
      "text/plain": [
       "0.13464179187580394"
      ]
     },
     "execution_count": 331,
     "metadata": {},
     "output_type": "execute_result"
    }
   ],
   "source": [
    "lr = LinearRegression()\n",
    "lr2 = LinearRegression.fit(lr, X = X_train_std2, y = y_train2)\n",
    "# Score of the linear model\n",
    "lr2.score(X = X_test_std2, y = y_test2)"
   ]
  },
  {
   "cell_type": "code",
   "execution_count": 286,
   "metadata": {},
   "outputs": [
    {
     "name": "stdout",
     "output_type": "stream",
     "text": [
      "MSE on training set: 218.85771640038507\n",
      "MSE on test set: 217.2148315533426\n"
     ]
    }
   ],
   "source": [
    "# MSE\n",
    "print(\"MSE on training set: {}\".format(sum((lr2.predict(X = X_train_std2) - y_train2)**2)/len(y_train2)))\n",
    "print(\"MSE on test set: {}\".format(sum((lr2.predict(X = X_test_std2) - y_test2)**2)/len(y_test2)))"
   ]
  },
  {
   "cell_type": "markdown",
   "metadata": {},
   "source": [
    "### GBT Model"
   ]
  },
  {
   "cell_type": "code",
   "execution_count": 332,
   "metadata": {},
   "outputs": [
    {
     "data": {
      "text/plain": [
       "GradientBoostingRegressor(alpha=0.9, criterion='friedman_mse', init=None,\n",
       "             learning_rate=0.1, loss='ls', max_depth=3, max_features=None,\n",
       "             max_leaf_nodes=None, min_impurity_decrease=0.0,\n",
       "             min_impurity_split=None, min_samples_leaf=1,\n",
       "             min_samples_split=2, min_weight_fraction_leaf=0.0,\n",
       "             n_estimators=100, n_iter_no_change=None, presort='auto',\n",
       "             random_state=0, subsample=1.0, tol=0.0001,\n",
       "             validation_fraction=0.1, verbose=0, warm_start=False)"
      ]
     },
     "execution_count": 332,
     "metadata": {},
     "output_type": "execute_result"
    }
   ],
   "source": [
    "gbrt = GradientBoostingRegressor(random_state=0)\n",
    "gbrt.fit(X_train2, y_train2)"
   ]
  },
  {
   "cell_type": "code",
   "execution_count": 333,
   "metadata": {},
   "outputs": [
    {
     "name": "stdout",
     "output_type": "stream",
     "text": [
      "accuracy on training set: 0.150762\n",
      "accuracy on test set: 0.148742\n"
     ]
    }
   ],
   "source": [
    "print(\"accuracy on training set: %f\" % gbrt.score(X_train2, y_train2))\n",
    "print(\"accuracy on test set: %f\" % gbrt.score(X_test2, y_test2))"
   ]
  },
  {
   "cell_type": "code",
   "execution_count": 334,
   "metadata": {},
   "outputs": [
    {
     "name": "stdout",
     "output_type": "stream",
     "text": [
      "MSE on training set: 214.53536377714468\n",
      "MSE on test set: 213.7603702397294\n"
     ]
    }
   ],
   "source": [
    "print(\"MSE on training set: {}\".format(sum((gbrt.predict(X_train2) - y_train2)**2)/len(y_train2)))\n",
    "print(\"MSE on test set: {}\".format(sum((gbrt.predict(X_test2) - y_test2)**2)/len(y_test2)))"
   ]
  },
  {
   "cell_type": "code",
   "execution_count": 336,
   "metadata": {
    "scrolled": true
   },
   "outputs": [
    {
     "data": {
      "text/plain": [
       "([<matplotlib.axis.YTick at 0x1c68177198>,\n",
       "  <matplotlib.axis.YTick at 0x1cd416dd68>,\n",
       "  <matplotlib.axis.YTick at 0x1c68146828>,\n",
       "  <matplotlib.axis.YTick at 0x1c67e7ba20>,\n",
       "  <matplotlib.axis.YTick at 0x1c67e7beb8>,\n",
       "  <matplotlib.axis.YTick at 0x1c67e7bb00>,\n",
       "  <matplotlib.axis.YTick at 0x1c67e845f8>,\n",
       "  <matplotlib.axis.YTick at 0x1c67e84ac8>,\n",
       "  <matplotlib.axis.YTick at 0x1c67e84e80>,\n",
       "  <matplotlib.axis.YTick at 0x1c67e8b4a8>,\n",
       "  <matplotlib.axis.YTick at 0x1c67e8b978>,\n",
       "  <matplotlib.axis.YTick at 0x1c67e8be48>],\n",
       " <a list of 12 Text yticklabel objects>)"
      ]
     },
     "execution_count": 336,
     "metadata": {},
     "output_type": "execute_result"
    },
    {
     "data": {
      "image/png": "[encoded data removed]",
      "text/plain": [
       "<Figure size 432x288 with 1 Axes>"
      ]
     },
     "metadata": {
      "needs_background": "light"
     },
     "output_type": "display_data"
    }
   ],
   "source": [
    "plt.barh(range(len(features+w_feature)),sorted(gbrt.feature_importances_))\n",
    "plt.yticks(range(len(features+w_feature)), tuple(X_test2.columns[np.argsort(gbrt.feature_importances_)]))"
   ]
  },
  {
   "cell_type": "code",
   "execution_count": 337,
   "metadata": {
    "scrolled": true
   },
   "outputs": [
    {
     "data": {
      "text/plain": [
       "<Figure size 720x720 with 0 Axes>"
      ]
     },
     "metadata": {},
     "output_type": "display_data"
    },
    {
     "data": {
      "image/png": "[encoded data removed]",
      "text/plain": [
       "<Figure size 432x288 with 7 Axes>"
      ]
     },
     "metadata": {
      "needs_background": "light"
     },
     "output_type": "display_data"
    }
   ],
   "source": [
    "plt.figure(figsize=(10,10))\n",
    "fig, axs = plot_partial_dependence(gbrt, X_train2, np.argsort(gbrt.feature_importances_)[-7:],\n",
    "                                       feature_names=X_train2.columns,\n",
    "                                       n_jobs=4, grid_resolution=80)\n",
    "plt.tight_layout()"
   ]
  },
  {
   "cell_type": "markdown",
   "metadata": {},
   "source": [
    "# Other models\n",
    "- Random Forest"
   ]
  },
  {
   "cell_type": "code",
   "execution_count": 339,
   "metadata": {},
   "outputs": [
    {
     "name": "stdout",
     "output_type": "stream",
     "text": [
      "accuracy on training set: 0.182039\n",
      "accuracy on test set: 0.137065\n"
     ]
    }
   ],
   "source": [
    "rdm = RandomForestRegressor(bootstrap=False, criterion='mse', max_depth=100,\n",
    "           max_features=8, max_leaf_nodes=100, random_state=0,\n",
    "           min_samples_leaf=1, min_samples_split=4,\n",
    "           min_weight_fraction_leaf=0.0, n_estimators=15)\n",
    "rdm.fit(X_train, y_train)\n",
    "print(\"accuracy on training set: %f\" % rdm.score(X_train, y_train))\n",
    "print(\"accuracy on test set: %f\" % rdm.score(X_test, y_test))"
   ]
  },
  {
   "cell_type": "code",
   "execution_count": 340,
   "metadata": {},
   "outputs": [
    {
     "name": "stdout",
     "output_type": "stream",
     "text": [
      "accuracy on training set: 0.196984\n",
      "accuracy on test set: 0.142731\n"
     ]
    }
   ],
   "source": [
    "rdm.fit(X_train2, y_train2)\n",
    "print(\"accuracy on training set: %f\" % rdm.score(X_train2, y_train2))\n",
    "print(\"accuracy on test set: %f\" % rdm.score(X_test2, y_test2))"
   ]
  },
  {
   "cell_type": "code",
   "execution_count": 342,
   "metadata": {},
   "outputs": [
    {
     "data": {
      "text/plain": [
       "([<matplotlib.axis.YTick at 0x1caaa02ac8>,\n",
       "  <matplotlib.axis.YTick at 0x1caaa02400>,\n",
       "  <matplotlib.axis.YTick at 0x1ca2615940>,\n",
       "  <matplotlib.axis.YTick at 0x1ca261f160>,\n",
       "  <matplotlib.axis.YTick at 0x1ca261f5f8>,\n",
       "  <matplotlib.axis.YTick at 0x1ca261f908>,\n",
       "  <matplotlib.axis.YTick at 0x1ca261fdd8>,\n",
       "  <matplotlib.axis.YTick at 0x1ca26262e8>,\n",
       "  <matplotlib.axis.YTick at 0x1ca26267b8>,\n",
       "  <matplotlib.axis.YTick at 0x1ca2626c88>,\n",
       "  <matplotlib.axis.YTick at 0x1ca262d198>,\n",
       "  <matplotlib.axis.YTick at 0x1ca262d668>],\n",
       " <a list of 12 Text yticklabel objects>)"
      ]
     },
     "execution_count": 342,
     "metadata": {},
     "output_type": "execute_result"
    },
    {
     "data": {
      "image/png": "[encoded data removed]",
      "text/plain": [
       "<Figure size 432x288 with 1 Axes>"
      ]
     },
     "metadata": {
      "needs_background": "light"
     },
     "output_type": "display_data"
    }
   ],
   "source": [
    "plt.barh(range(len(features+w_feature)),sorted(rdm.feature_importances_))\n",
    "plt.yticks(range(len(features+w_feature)), tuple(X_test2.columns[np.argsort(rdm.feature_importances_)]))"
   ]
  },
  {
   "cell_type": "markdown",
   "metadata": {},
   "source": [
    "# Key Takeaways"
   ]
  },
  {
   "cell_type": "markdown",
   "metadata": {},
   "source": [
    "1. Distance is by far the most predictive among all variables. The longer the distance, the longer the trip duration.\n",
    "- Other variables that are important and make sense are age (older the age, longer the duration), and gender (Males take slighly shorter time to finish trips).\n",
    "2. Weather data can improve the model accuracy but only by a little bit.\n",
    "3. Gradient boosted tree model with weather info is the most accurate (R-squared = 14.8%), and yet it is not that much better than without weather data, or a linear model."
   ]
  }
 ],
 "metadata": {
  "kernelspec": {
   "display_name": "Python 3",
   "language": "python",
   "name": "python3"
  },
  "language_info": {
   "codemirror_mode": {
    "name": "ipython",
    "version": 3
   },
   "file_extension": ".py",
   "mimetype": "text/x-python",
   "name": "python",
   "nbconvert_exporter": "python",
   "pygments_lexer": "ipython3",
   "version": "3.7.3"
  }
 },
 "nbformat": 4,
 "nbformat_minor": 2
}
